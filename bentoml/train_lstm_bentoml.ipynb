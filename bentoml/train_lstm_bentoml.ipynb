{
 "cells": [
  {
   "cell_type": "markdown",
   "id": "1428d926-b92a-4bdb-bf10-303aee557df6",
   "metadata": {},
   "source": [
    "# LSTM Traning (BentoML)\n",
    "\n",
    "LSTM training with BentoML model management and serving\n",
    "\n",
    "## Preparation"
   ]
  },
  {
   "cell_type": "code",
   "execution_count": 1,
   "id": "80e1dfb4-a83e-496d-ab5e-b6a7525a5bc0",
   "metadata": {},
   "outputs": [
    {
     "name": "stdout",
     "output_type": "stream",
     "text": [
      "/mlsteam/lab/stock-pred\n"
     ]
    }
   ],
   "source": [
    "%cd stock-pred\n",
    "%bookmark REPO_BASE_DIR"
   ]
  },
  {
   "cell_type": "code",
   "execution_count": 2,
   "id": "decd8923-40c3-4a5c-8e6d-f1605ac68eb3",
   "metadata": {
    "collapsed": true,
    "jupyter": {
     "outputs_hidden": true
    },
    "tags": []
   },
   "outputs": [
    {
     "name": "stdout",
     "output_type": "stream",
     "text": [
      "Requirement already satisfied: bentoml[all] in /usr/local/lib/python3.8/dist-packages (1.0.8)\n",
      "Requirement already satisfied: pip-tools>=6.6.2 in /usr/local/lib/python3.8/dist-packages (from bentoml[all]) (6.9.0)\n",
      "Requirement already satisfied: aiohttp in /usr/local/lib/python3.8/dist-packages (from bentoml[all]) (3.8.3)\n",
      "Requirement already satisfied: opentelemetry-instrumentation-asgi==0.34b0 in /usr/local/lib/python3.8/dist-packages (from bentoml[all]) (0.34b0)\n",
      "Requirement already satisfied: opentelemetry-api==1.13.0 in /usr/local/lib/python3.8/dist-packages (from bentoml[all]) (1.13.0)\n",
      "Requirement already satisfied: pathspec in /usr/local/lib/python3.8/dist-packages (from bentoml[all]) (0.10.1)\n",
      "Requirement already satisfied: rich>=11.2.0 in /usr/local/lib/python3.8/dist-packages (from bentoml[all]) (12.6.0)\n",
      "Requirement already satisfied: requests in /usr/local/lib/python3.8/dist-packages (from bentoml[all]) (2.25.1)\n",
      "Requirement already satisfied: schema in /usr/local/lib/python3.8/dist-packages (from bentoml[all]) (0.7.5)\n",
      "Requirement already satisfied: packaging>=20.0 in /usr/local/lib/python3.8/dist-packages (from bentoml[all]) (21.3)\n",
      "Requirement already satisfied: fs in /usr/local/lib/python3.8/dist-packages (from bentoml[all]) (2.4.16)\n",
      "Requirement already satisfied: opentelemetry-instrumentation-aiohttp-client==0.34b0 in /usr/local/lib/python3.8/dist-packages (from bentoml[all]) (0.34b0)\n",
      "Requirement already satisfied: python-dateutil in /usr/local/lib/python3.8/dist-packages (from bentoml[all]) (2.8.2)\n",
      "Requirement already satisfied: deepmerge in /usr/local/lib/python3.8/dist-packages (from bentoml[all]) (1.1.0)\n",
      "Requirement already satisfied: opentelemetry-util-http==0.34b0 in /usr/local/lib/python3.8/dist-packages (from bentoml[all]) (0.34b0)\n",
      "Requirement already satisfied: pynvml<12 in /usr/local/lib/python3.8/dist-packages (from bentoml[all]) (11.4.1)\n",
      "Requirement already satisfied: cloudpickle in /usr/local/lib/python3.8/dist-packages (from bentoml[all]) (2.2.0)\n",
      "Requirement already satisfied: watchfiles>=0.15.0 in /usr/local/lib/python3.8/dist-packages (from bentoml[all]) (0.18.0)\n",
      "Requirement already satisfied: attrs>=21.1.0 in /usr/local/lib/python3.8/dist-packages (from bentoml[all]) (22.1.0)\n",
      "Requirement already satisfied: circus!=0.17.2,>=0.17.0 in /usr/local/lib/python3.8/dist-packages (from bentoml[all]) (0.17.1)\n",
      "Requirement already satisfied: starlette in /usr/local/lib/python3.8/dist-packages (from bentoml[all]) (0.21.0)\n",
      "Requirement already satisfied: uvicorn in /usr/local/lib/python3.8/dist-packages (from bentoml[all]) (0.19.0)\n",
      "Requirement already satisfied: Jinja2>=3.0.1 in /usr/local/lib/python3.8/dist-packages (from bentoml[all]) (3.1.2)\n",
      "Requirement already satisfied: opentelemetry-sdk==1.13.0 in /usr/local/lib/python3.8/dist-packages (from bentoml[all]) (1.13.0)\n",
      "Requirement already satisfied: simple-di>=0.1.4 in /usr/local/lib/python3.8/dist-packages (from bentoml[all]) (0.1.5)\n",
      "Requirement already satisfied: opentelemetry-semantic-conventions==0.34b0 in /usr/local/lib/python3.8/dist-packages (from bentoml[all]) (0.34b0)\n",
      "Requirement already satisfied: numpy in /usr/local/lib/python3.8/dist-packages (from bentoml[all]) (1.23.4)\n",
      "Requirement already satisfied: click>=7.0 in /usr/local/lib/python3.8/dist-packages (from bentoml[all]) (8.0.3)\n",
      "Requirement already satisfied: prometheus-client>=0.10.0 in /usr/local/lib/python3.8/dist-packages (from bentoml[all]) (0.15.0)\n",
      "Requirement already satisfied: pip-requirements-parser>=31.2.0 in /usr/local/lib/python3.8/dist-packages (from bentoml[all]) (31.2.0)\n",
      "Requirement already satisfied: opentelemetry-instrumentation==0.34b0 in /usr/local/lib/python3.8/dist-packages (from bentoml[all]) (0.34b0)\n",
      "Requirement already satisfied: python-multipart in /usr/local/lib/python3.8/dist-packages (from bentoml[all]) (0.0.5)\n",
      "Requirement already satisfied: python-json-logger in /usr/local/lib/python3.8/dist-packages (from bentoml[all]) (2.0.4)\n",
      "Requirement already satisfied: cattrs>=22.1.0 in /usr/local/lib/python3.8/dist-packages (from bentoml[all]) (22.2.0)\n",
      "Requirement already satisfied: psutil in /usr/local/lib/python3.8/dist-packages (from bentoml[all]) (5.9.3)\n",
      "Requirement already satisfied: PyYAML>=5.0 in /usr/local/lib/python3.8/dist-packages (from bentoml[all]) (6.0)\n",
      "Requirement already satisfied: deprecated>=1.2.6 in /usr/local/lib/python3.8/dist-packages (from opentelemetry-api==1.13.0->bentoml[all]) (1.2.13)\n",
      "Requirement already satisfied: setuptools>=16.0 in /usr/lib/python3/dist-packages (from opentelemetry-api==1.13.0->bentoml[all]) (45.2.0)\n",
      "Requirement already satisfied: wrapt<2.0.0,>=1.0.0 in /usr/local/lib/python3.8/dist-packages (from opentelemetry-instrumentation==0.34b0->bentoml[all]) (1.14.1)\n",
      "Requirement already satisfied: asgiref~=3.0 in /usr/local/lib/python3.8/dist-packages (from opentelemetry-instrumentation-asgi==0.34b0->bentoml[all]) (3.5.2)\n",
      "Requirement already satisfied: typing-extensions>=3.7.4 in /usr/local/lib/python3.8/dist-packages (from opentelemetry-sdk==1.13.0->bentoml[all]) (4.4.0)\n",
      "Requirement already satisfied: exceptiongroup in /usr/local/lib/python3.8/dist-packages (from cattrs>=22.1.0->bentoml[all]) (1.0.0)\n",
      "Requirement already satisfied: pyzmq>=17.0 in /usr/local/lib/python3.8/dist-packages (from circus!=0.17.2,>=0.17.0->bentoml[all]) (24.0.1)\n",
      "Requirement already satisfied: tornado>=5.0.2 in /usr/local/lib/python3.8/dist-packages (from circus!=0.17.2,>=0.17.0->bentoml[all]) (6.2)\n",
      "Requirement already satisfied: MarkupSafe>=2.0 in /usr/local/lib/python3.8/dist-packages (from Jinja2>=3.0.1->bentoml[all]) (2.1.1)\n",
      "Requirement already satisfied: pyparsing!=3.0.5,>=2.0.2 in /usr/local/lib/python3.8/dist-packages (from packaging>=20.0->bentoml[all]) (3.0.9)\n",
      "Requirement already satisfied: build in /usr/local/lib/python3.8/dist-packages (from pip-tools>=6.6.2->bentoml[all]) (0.9.0)\n",
      "Requirement already satisfied: pip>=21.2 in /usr/local/lib/python3.8/dist-packages (from pip-tools>=6.6.2->bentoml[all]) (22.3)\n",
      "Requirement already satisfied: wheel in /usr/lib/python3/dist-packages (from pip-tools>=6.6.2->bentoml[all]) (0.34.2)\n",
      "Requirement already satisfied: pygments<3.0.0,>=2.6.0 in /usr/local/lib/python3.8/dist-packages (from rich>=11.2.0->bentoml[all]) (2.13.0)\n",
      "Requirement already satisfied: commonmark<0.10.0,>=0.9.0 in /usr/local/lib/python3.8/dist-packages (from rich>=11.2.0->bentoml[all]) (0.9.1)\n",
      "Requirement already satisfied: anyio<4,>=3.0.0 in /usr/local/lib/python3.8/dist-packages (from watchfiles>=0.15.0->bentoml[all]) (3.6.2)\n",
      "Requirement already satisfied: multidict<7.0,>=4.5 in /usr/local/lib/python3.8/dist-packages (from aiohttp->bentoml[all]) (6.0.2)\n",
      "Requirement already satisfied: frozenlist>=1.1.1 in /usr/local/lib/python3.8/dist-packages (from aiohttp->bentoml[all]) (1.3.1)\n",
      "Requirement already satisfied: async-timeout<5.0,>=4.0.0a3 in /usr/local/lib/python3.8/dist-packages (from aiohttp->bentoml[all]) (4.0.2)\n",
      "Requirement already satisfied: aiosignal>=1.1.2 in /usr/local/lib/python3.8/dist-packages (from aiohttp->bentoml[all]) (1.2.0)\n",
      "Requirement already satisfied: charset-normalizer<3.0,>=2.0 in /usr/local/lib/python3.8/dist-packages (from aiohttp->bentoml[all]) (2.1.1)\n",
      "Requirement already satisfied: yarl<2.0,>=1.0 in /usr/local/lib/python3.8/dist-packages (from aiohttp->bentoml[all]) (1.8.1)\n",
      "Requirement already satisfied: fs-s3fs in /usr/local/lib/python3.8/dist-packages (from bentoml[all]) (1.1.1)\n",
      "Requirement already satisfied: grpcio-channelz!=1.48.2,<1.49,>=1.41.0 in /usr/local/lib/python3.8/dist-packages (from bentoml[all]) (1.48.1)\n",
      "Requirement already satisfied: grpcio-reflection!=1.48.2,<1.49,>=1.41.0 in /usr/local/lib/python3.8/dist-packages (from bentoml[all]) (1.48.1)\n",
      "Requirement already satisfied: grpcio!=1.48.2,<1.49,>=1.41.0 in /usr/local/lib/python3.8/dist-packages (from bentoml[all]) (1.48.1)\n",
      "Requirement already satisfied: opentelemetry-instrumentation-grpc==0.34b0 in /usr/local/lib/python3.8/dist-packages (from bentoml[all]) (0.34b0)\n",
      "Requirement already satisfied: grpcio-health-checking!=1.48.2,<1.49,>=1.41.0 in /usr/local/lib/python3.8/dist-packages (from bentoml[all]) (1.48.1)\n",
      "Requirement already satisfied: protobuf!=3.19.5,<3.20,>=3.5.0 in /usr/local/lib/python3.8/dist-packages (from bentoml[all]) (3.19.6)\n",
      "Requirement already satisfied: Pillow in /usr/local/lib/python3.8/dist-packages (from bentoml[all]) (9.3.0)\n",
      "Requirement already satisfied: pydantic<2 in /usr/local/lib/python3.8/dist-packages (from bentoml[all]) (1.10.2)\n",
      "Requirement already satisfied: pyarrow in /usr/local/lib/python3.8/dist-packages (from bentoml[all]) (10.0.0)\n",
      "Requirement already satisfied: pandas in /usr/local/lib/python3.8/dist-packages (from bentoml[all]) (1.5.1)\n",
      "Requirement already satisfied: appdirs~=1.4.3 in /usr/local/lib/python3.8/dist-packages (from fs->bentoml[all]) (1.4.4)\n",
      "Requirement already satisfied: six~=1.10 in /usr/local/lib/python3.8/dist-packages (from fs->bentoml[all]) (1.16.0)\n",
      "Requirement already satisfied: urllib3<1.27,>=1.21.1 in /usr/local/lib/python3.8/dist-packages (from requests->bentoml[all]) (1.26.12)\n",
      "Requirement already satisfied: chardet<5,>=3.0.2 in /usr/local/lib/python3.8/dist-packages (from requests->bentoml[all]) (4.0.0)\n",
      "Requirement already satisfied: certifi>=2017.4.17 in /usr/local/lib/python3.8/dist-packages (from requests->bentoml[all]) (2022.9.24)\n",
      "Requirement already satisfied: idna<3,>=2.5 in /usr/local/lib/python3.8/dist-packages (from requests->bentoml[all]) (2.10)\n",
      "Requirement already satisfied: contextlib2>=0.5.5 in /usr/local/lib/python3.8/dist-packages (from schema->bentoml[all]) (21.6.0)\n",
      "Requirement already satisfied: h11>=0.8 in /usr/local/lib/python3.8/dist-packages (from uvicorn->bentoml[all]) (0.14.0)\n",
      "Requirement already satisfied: sniffio>=1.1 in /usr/local/lib/python3.8/dist-packages (from anyio<4,>=3.0.0->watchfiles>=0.15.0->bentoml[all]) (1.3.0)\n",
      "Requirement already satisfied: opentelemetry-exporter-jaeger==1.13.0 in /usr/local/lib/python3.8/dist-packages (from bentoml[all]) (1.13.0)\n",
      "Requirement already satisfied: opentelemetry-exporter-jaeger-thrift==1.13.0 in /usr/local/lib/python3.8/dist-packages (from opentelemetry-exporter-jaeger==1.13.0->bentoml[all]) (1.13.0)\n",
      "Requirement already satisfied: opentelemetry-exporter-jaeger-proto-grpc==1.13.0 in /usr/local/lib/python3.8/dist-packages (from opentelemetry-exporter-jaeger==1.13.0->bentoml[all]) (1.13.0)\n",
      "Requirement already satisfied: googleapis-common-protos<1.56.3,~=1.52 in /usr/local/lib/python3.8/dist-packages (from opentelemetry-exporter-jaeger-proto-grpc==1.13.0->opentelemetry-exporter-jaeger==1.13.0->bentoml[all]) (1.56.2)\n",
      "Requirement already satisfied: thrift>=0.10.0 in /usr/local/lib/python3.8/dist-packages (from opentelemetry-exporter-jaeger-thrift==1.13.0->opentelemetry-exporter-jaeger==1.13.0->bentoml[all]) (0.16.0)\n",
      "Requirement already satisfied: opentelemetry-exporter-otlp==1.13.0 in /usr/local/lib/python3.8/dist-packages (from bentoml[all]) (1.13.0)\n",
      "Requirement already satisfied: opentelemetry-exporter-otlp-proto-grpc==1.13.0 in /usr/local/lib/python3.8/dist-packages (from opentelemetry-exporter-otlp==1.13.0->bentoml[all]) (1.13.0)\n",
      "Requirement already satisfied: opentelemetry-exporter-otlp-proto-http==1.13.0 in /usr/local/lib/python3.8/dist-packages (from opentelemetry-exporter-otlp==1.13.0->bentoml[all]) (1.13.0)\n",
      "Requirement already satisfied: backoff<3.0.0,>=1.10.0 in /usr/local/lib/python3.8/dist-packages (from opentelemetry-exporter-otlp-proto-grpc==1.13.0->opentelemetry-exporter-otlp==1.13.0->bentoml[all]) (2.2.1)\n",
      "Requirement already satisfied: opentelemetry-proto==1.13.0 in /usr/local/lib/python3.8/dist-packages (from opentelemetry-exporter-otlp-proto-grpc==1.13.0->opentelemetry-exporter-otlp==1.13.0->bentoml[all]) (1.13.0)\n",
      "Requirement already satisfied: opentelemetry-exporter-zipkin==1.13.0 in /usr/local/lib/python3.8/dist-packages (from bentoml[all]) (1.13.0)\n",
      "Requirement already satisfied: opentelemetry-exporter-zipkin-json==1.13.0 in /usr/local/lib/python3.8/dist-packages (from opentelemetry-exporter-zipkin==1.13.0->bentoml[all]) (1.13.0)\n",
      "Requirement already satisfied: opentelemetry-exporter-zipkin-proto-http==1.13.0 in /usr/local/lib/python3.8/dist-packages (from opentelemetry-exporter-zipkin==1.13.0->bentoml[all]) (1.13.0)\n",
      "Requirement already satisfied: tomli>=1.0.0 in /usr/local/lib/python3.8/dist-packages (from build->pip-tools>=6.6.2->bentoml[all]) (2.0.1)\n",
      "Requirement already satisfied: pep517>=0.9.1 in /usr/local/lib/python3.8/dist-packages (from build->pip-tools>=6.6.2->bentoml[all]) (0.13.0)\n",
      "Requirement already satisfied: boto3~=1.9 in /usr/local/lib/python3.8/dist-packages (from fs-s3fs->bentoml[all]) (1.26.1)\n",
      "Requirement already satisfied: pytz>=2020.1 in /usr/local/lib/python3.8/dist-packages (from pandas->bentoml[all]) (2022.6)\n",
      "Requirement already satisfied: s3transfer<0.7.0,>=0.6.0 in /usr/local/lib/python3.8/dist-packages (from boto3~=1.9->fs-s3fs->bentoml[all]) (0.6.0)\n",
      "Requirement already satisfied: botocore<1.30.0,>=1.29.1 in /usr/local/lib/python3.8/dist-packages (from boto3~=1.9->fs-s3fs->bentoml[all]) (1.29.1)\n",
      "Requirement already satisfied: jmespath<2.0.0,>=0.7.1 in /usr/local/lib/python3.8/dist-packages (from boto3~=1.9->fs-s3fs->bentoml[all]) (1.0.1)\n",
      "\u001b[33mWARNING: Running pip as the 'root' user can result in broken permissions and conflicting behaviour with the system package manager. It is recommended to use a virtual environment instead: https://pip.pypa.io/warnings/venv\u001b[0m\u001b[33m\n",
      "\u001b[0mNote: you may need to restart the kernel to use updated packages.\n",
      "Requirement already satisfied: matplotlib>=3.5.2 in /usr/local/lib/python3.8/dist-packages (from -r requirements.txt (line 2)) (3.6.2)\n",
      "Requirement already satisfied: mlsteam-client==0.4.6 in /usr/local/lib/python3.8/dist-packages (from -r requirements.txt (line 3)) (0.4.6)\n",
      "Requirement already satisfied: scikit-learn>=1.0.2 in /usr/local/lib/python3.8/dist-packages (from -r requirements.txt (line 4)) (1.1.3)\n",
      "Requirement already satisfied: tensorflow==2.8.0 in /usr/local/lib/python3.8/dist-packages (from -r requirements.txt (line 5)) (2.8.0)\n",
      "Requirement already satisfied: bravado==11.0.2 in /usr/local/lib/python3.8/dist-packages (from mlsteam-client==0.4.6->-r requirements.txt (line 3)) (11.0.2)\n",
      "Requirement already satisfied: requests==2.25.1 in /usr/local/lib/python3.8/dist-packages (from mlsteam-client==0.4.6->-r requirements.txt (line 3)) (2.25.1)\n",
      "Requirement already satisfied: pyyaml>=5.3.1 in /usr/local/lib/python3.8/dist-packages (from mlsteam-client==0.4.6->-r requirements.txt (line 3)) (6.0)\n",
      "Requirement already satisfied: click==8.0.3 in /usr/local/lib/python3.8/dist-packages (from mlsteam-client==0.4.6->-r requirements.txt (line 3)) (8.0.3)\n",
      "Requirement already satisfied: keras-preprocessing>=1.1.1 in /usr/local/lib/python3.8/dist-packages (from tensorflow==2.8.0->-r requirements.txt (line 5)) (1.1.2)\n",
      "Requirement already satisfied: typing-extensions>=3.6.6 in /usr/local/lib/python3.8/dist-packages (from tensorflow==2.8.0->-r requirements.txt (line 5)) (4.4.0)\n",
      "Requirement already satisfied: tf-estimator-nightly==2.8.0.dev2021122109 in /usr/local/lib/python3.8/dist-packages (from tensorflow==2.8.0->-r requirements.txt (line 5)) (2.8.0.dev2021122109)\n",
      "Requirement already satisfied: absl-py>=0.4.0 in /usr/local/lib/python3.8/dist-packages (from tensorflow==2.8.0->-r requirements.txt (line 5)) (1.3.0)\n",
      "Requirement already satisfied: astunparse>=1.6.0 in /usr/local/lib/python3.8/dist-packages (from tensorflow==2.8.0->-r requirements.txt (line 5)) (1.6.3)\n",
      "Requirement already satisfied: six>=1.12.0 in /usr/local/lib/python3.8/dist-packages (from tensorflow==2.8.0->-r requirements.txt (line 5)) (1.16.0)\n",
      "Requirement already satisfied: tensorboard<2.9,>=2.8 in /usr/local/lib/python3.8/dist-packages (from tensorflow==2.8.0->-r requirements.txt (line 5)) (2.8.0)\n",
      "Requirement already satisfied: tensorflow-io-gcs-filesystem>=0.23.1 in /usr/local/lib/python3.8/dist-packages (from tensorflow==2.8.0->-r requirements.txt (line 5)) (0.27.0)\n",
      "Requirement already satisfied: opt-einsum>=2.3.2 in /usr/local/lib/python3.8/dist-packages (from tensorflow==2.8.0->-r requirements.txt (line 5)) (3.3.0)\n",
      "Requirement already satisfied: gast>=0.2.1 in /usr/local/lib/python3.8/dist-packages (from tensorflow==2.8.0->-r requirements.txt (line 5)) (0.5.3)\n",
      "Requirement already satisfied: libclang>=9.0.1 in /usr/local/lib/python3.8/dist-packages (from tensorflow==2.8.0->-r requirements.txt (line 5)) (14.0.6)\n",
      "Requirement already satisfied: wrapt>=1.11.0 in /usr/local/lib/python3.8/dist-packages (from tensorflow==2.8.0->-r requirements.txt (line 5)) (1.14.1)\n",
      "Requirement already satisfied: protobuf>=3.9.2 in /usr/local/lib/python3.8/dist-packages (from tensorflow==2.8.0->-r requirements.txt (line 5)) (3.19.6)\n",
      "Requirement already satisfied: grpcio<2.0,>=1.24.3 in /usr/local/lib/python3.8/dist-packages (from tensorflow==2.8.0->-r requirements.txt (line 5)) (1.48.1)\n",
      "Requirement already satisfied: flatbuffers>=1.12 in /usr/local/lib/python3.8/dist-packages (from tensorflow==2.8.0->-r requirements.txt (line 5)) (22.10.26)\n",
      "Requirement already satisfied: keras<2.9,>=2.8.0rc0 in /usr/local/lib/python3.8/dist-packages (from tensorflow==2.8.0->-r requirements.txt (line 5)) (2.8.0)\n",
      "Requirement already satisfied: numpy>=1.20 in /usr/local/lib/python3.8/dist-packages (from tensorflow==2.8.0->-r requirements.txt (line 5)) (1.23.4)\n",
      "Requirement already satisfied: h5py>=2.9.0 in /usr/local/lib/python3.8/dist-packages (from tensorflow==2.8.0->-r requirements.txt (line 5)) (3.7.0)\n",
      "Requirement already satisfied: setuptools in /usr/lib/python3/dist-packages (from tensorflow==2.8.0->-r requirements.txt (line 5)) (45.2.0)\n",
      "Requirement already satisfied: google-pasta>=0.1.1 in /usr/local/lib/python3.8/dist-packages (from tensorflow==2.8.0->-r requirements.txt (line 5)) (0.2.0)\n",
      "Requirement already satisfied: termcolor>=1.1.0 in /usr/local/lib/python3.8/dist-packages (from tensorflow==2.8.0->-r requirements.txt (line 5)) (2.1.0)\n",
      "Requirement already satisfied: monotonic in /usr/local/lib/python3.8/dist-packages (from bravado==11.0.2->mlsteam-client==0.4.6->-r requirements.txt (line 3)) (1.6)\n",
      "Requirement already satisfied: msgpack in /usr/local/lib/python3.8/dist-packages (from bravado==11.0.2->mlsteam-client==0.4.6->-r requirements.txt (line 3)) (1.0.4)\n",
      "Requirement already satisfied: bravado-core>=5.16.1 in /usr/local/lib/python3.8/dist-packages (from bravado==11.0.2->mlsteam-client==0.4.6->-r requirements.txt (line 3)) (5.17.1)\n",
      "Requirement already satisfied: simplejson in /usr/local/lib/python3.8/dist-packages (from bravado==11.0.2->mlsteam-client==0.4.6->-r requirements.txt (line 3)) (3.17.6)\n",
      "Requirement already satisfied: python-dateutil in /usr/local/lib/python3.8/dist-packages (from bravado==11.0.2->mlsteam-client==0.4.6->-r requirements.txt (line 3)) (2.8.2)\n",
      "Requirement already satisfied: chardet<5,>=3.0.2 in /usr/local/lib/python3.8/dist-packages (from requests==2.25.1->mlsteam-client==0.4.6->-r requirements.txt (line 3)) (4.0.0)\n",
      "Requirement already satisfied: urllib3<1.27,>=1.21.1 in /usr/local/lib/python3.8/dist-packages (from requests==2.25.1->mlsteam-client==0.4.6->-r requirements.txt (line 3)) (1.26.12)\n",
      "Requirement already satisfied: certifi>=2017.4.17 in /usr/local/lib/python3.8/dist-packages (from requests==2.25.1->mlsteam-client==0.4.6->-r requirements.txt (line 3)) (2022.9.24)\n",
      "Requirement already satisfied: idna<3,>=2.5 in /usr/local/lib/python3.8/dist-packages (from requests==2.25.1->mlsteam-client==0.4.6->-r requirements.txt (line 3)) (2.10)\n",
      "Requirement already satisfied: kiwisolver>=1.0.1 in /usr/local/lib/python3.8/dist-packages (from matplotlib>=3.5.2->-r requirements.txt (line 2)) (1.4.4)\n",
      "Requirement already satisfied: contourpy>=1.0.1 in /usr/local/lib/python3.8/dist-packages (from matplotlib>=3.5.2->-r requirements.txt (line 2)) (1.0.6)\n",
      "Requirement already satisfied: pyparsing>=2.2.1 in /usr/local/lib/python3.8/dist-packages (from matplotlib>=3.5.2->-r requirements.txt (line 2)) (3.0.9)\n",
      "Requirement already satisfied: packaging>=20.0 in /usr/local/lib/python3.8/dist-packages (from matplotlib>=3.5.2->-r requirements.txt (line 2)) (21.3)\n",
      "Requirement already satisfied: cycler>=0.10 in /usr/local/lib/python3.8/dist-packages (from matplotlib>=3.5.2->-r requirements.txt (line 2)) (0.11.0)\n",
      "Requirement already satisfied: fonttools>=4.22.0 in /usr/local/lib/python3.8/dist-packages (from matplotlib>=3.5.2->-r requirements.txt (line 2)) (4.38.0)\n",
      "Requirement already satisfied: pillow>=6.2.0 in /usr/local/lib/python3.8/dist-packages (from matplotlib>=3.5.2->-r requirements.txt (line 2)) (9.3.0)\n",
      "Requirement already satisfied: scipy>=1.3.2 in /usr/local/lib/python3.8/dist-packages (from scikit-learn>=1.0.2->-r requirements.txt (line 4)) (1.9.3)\n",
      "Requirement already satisfied: threadpoolctl>=2.0.0 in /usr/local/lib/python3.8/dist-packages (from scikit-learn>=1.0.2->-r requirements.txt (line 4)) (3.1.0)\n",
      "Requirement already satisfied: joblib>=1.0.0 in /usr/local/lib/python3.8/dist-packages (from scikit-learn>=1.0.2->-r requirements.txt (line 4)) (1.2.0)\n",
      "Requirement already satisfied: wheel<1.0,>=0.23.0 in /usr/lib/python3/dist-packages (from astunparse>=1.6.0->tensorflow==2.8.0->-r requirements.txt (line 5)) (0.34.2)\n",
      "Requirement already satisfied: tensorboard-data-server<0.7.0,>=0.6.0 in /usr/local/lib/python3.8/dist-packages (from tensorboard<2.9,>=2.8->tensorflow==2.8.0->-r requirements.txt (line 5)) (0.6.1)\n",
      "Requirement already satisfied: tensorboard-plugin-wit>=1.6.0 in /usr/local/lib/python3.8/dist-packages (from tensorboard<2.9,>=2.8->tensorflow==2.8.0->-r requirements.txt (line 5)) (1.8.1)\n",
      "Requirement already satisfied: markdown>=2.6.8 in /usr/local/lib/python3.8/dist-packages (from tensorboard<2.9,>=2.8->tensorflow==2.8.0->-r requirements.txt (line 5)) (3.4.1)\n",
      "Requirement already satisfied: werkzeug>=0.11.15 in /usr/local/lib/python3.8/dist-packages (from tensorboard<2.9,>=2.8->tensorflow==2.8.0->-r requirements.txt (line 5)) (2.2.2)\n",
      "Requirement already satisfied: google-auth<3,>=1.6.3 in /usr/local/lib/python3.8/dist-packages (from tensorboard<2.9,>=2.8->tensorflow==2.8.0->-r requirements.txt (line 5)) (2.14.0)\n",
      "Requirement already satisfied: google-auth-oauthlib<0.5,>=0.4.1 in /usr/local/lib/python3.8/dist-packages (from tensorboard<2.9,>=2.8->tensorflow==2.8.0->-r requirements.txt (line 5)) (0.4.6)\n",
      "Requirement already satisfied: swagger-spec-validator>=2.0.1 in /usr/local/lib/python3.8/dist-packages (from bravado-core>=5.16.1->bravado==11.0.2->mlsteam-client==0.4.6->-r requirements.txt (line 3)) (3.0.3)\n",
      "Requirement already satisfied: jsonref in /usr/local/lib/python3.8/dist-packages (from bravado-core>=5.16.1->bravado==11.0.2->mlsteam-client==0.4.6->-r requirements.txt (line 3)) (1.0.0.post1)\n",
      "Requirement already satisfied: pytz in /usr/local/lib/python3.8/dist-packages (from bravado-core>=5.16.1->bravado==11.0.2->mlsteam-client==0.4.6->-r requirements.txt (line 3)) (2022.6)\n",
      "Requirement already satisfied: jsonschema[format]>=2.5.1 in /usr/local/lib/python3.8/dist-packages (from bravado-core>=5.16.1->bravado==11.0.2->mlsteam-client==0.4.6->-r requirements.txt (line 3)) (4.17.0)\n",
      "Requirement already satisfied: pyasn1-modules>=0.2.1 in /usr/local/lib/python3.8/dist-packages (from google-auth<3,>=1.6.3->tensorboard<2.9,>=2.8->tensorflow==2.8.0->-r requirements.txt (line 5)) (0.2.8)\n",
      "Requirement already satisfied: cachetools<6.0,>=2.0.0 in /usr/local/lib/python3.8/dist-packages (from google-auth<3,>=1.6.3->tensorboard<2.9,>=2.8->tensorflow==2.8.0->-r requirements.txt (line 5)) (5.2.0)\n",
      "Requirement already satisfied: rsa<5,>=3.1.4 in /usr/local/lib/python3.8/dist-packages (from google-auth<3,>=1.6.3->tensorboard<2.9,>=2.8->tensorflow==2.8.0->-r requirements.txt (line 5)) (4.9)\n",
      "Requirement already satisfied: requests-oauthlib>=0.7.0 in /usr/local/lib/python3.8/dist-packages (from google-auth-oauthlib<0.5,>=0.4.1->tensorboard<2.9,>=2.8->tensorflow==2.8.0->-r requirements.txt (line 5)) (1.3.1)\n",
      "Requirement already satisfied: importlib-metadata>=4.4 in /usr/local/lib/python3.8/dist-packages (from markdown>=2.6.8->tensorboard<2.9,>=2.8->tensorflow==2.8.0->-r requirements.txt (line 5)) (5.0.0)\n",
      "Requirement already satisfied: MarkupSafe>=2.1.1 in /usr/local/lib/python3.8/dist-packages (from werkzeug>=0.11.15->tensorboard<2.9,>=2.8->tensorflow==2.8.0->-r requirements.txt (line 5)) (2.1.1)\n",
      "Requirement already satisfied: zipp>=0.5 in /usr/local/lib/python3.8/dist-packages (from importlib-metadata>=4.4->markdown>=2.6.8->tensorboard<2.9,>=2.8->tensorflow==2.8.0->-r requirements.txt (line 5)) (3.10.0)\n",
      "Requirement already satisfied: pkgutil-resolve-name>=1.3.10 in /usr/local/lib/python3.8/dist-packages (from jsonschema[format]>=2.5.1->bravado-core>=5.16.1->bravado==11.0.2->mlsteam-client==0.4.6->-r requirements.txt (line 3)) (1.3.10)\n",
      "Requirement already satisfied: pyrsistent!=0.17.0,!=0.17.1,!=0.17.2,>=0.14.0 in /usr/local/lib/python3.8/dist-packages (from jsonschema[format]>=2.5.1->bravado-core>=5.16.1->bravado==11.0.2->mlsteam-client==0.4.6->-r requirements.txt (line 3)) (0.19.1)\n",
      "Requirement already satisfied: importlib-resources>=1.4.0 in /usr/local/lib/python3.8/dist-packages (from jsonschema[format]>=2.5.1->bravado-core>=5.16.1->bravado==11.0.2->mlsteam-client==0.4.6->-r requirements.txt (line 3)) (5.10.0)\n",
      "Requirement already satisfied: attrs>=17.4.0 in /usr/local/lib/python3.8/dist-packages (from jsonschema[format]>=2.5.1->bravado-core>=5.16.1->bravado==11.0.2->mlsteam-client==0.4.6->-r requirements.txt (line 3)) (22.1.0)\n",
      "Requirement already satisfied: webcolors>=1.11 in /usr/local/lib/python3.8/dist-packages (from jsonschema[format]>=2.5.1->bravado-core>=5.16.1->bravado==11.0.2->mlsteam-client==0.4.6->-r requirements.txt (line 3)) (1.12)\n",
      "Requirement already satisfied: jsonpointer>1.13 in /usr/local/lib/python3.8/dist-packages (from jsonschema[format]>=2.5.1->bravado-core>=5.16.1->bravado==11.0.2->mlsteam-client==0.4.6->-r requirements.txt (line 3)) (2.3)\n",
      "Requirement already satisfied: fqdn in /usr/local/lib/python3.8/dist-packages (from jsonschema[format]>=2.5.1->bravado-core>=5.16.1->bravado==11.0.2->mlsteam-client==0.4.6->-r requirements.txt (line 3)) (1.5.1)\n",
      "Requirement already satisfied: rfc3987 in /usr/local/lib/python3.8/dist-packages (from jsonschema[format]>=2.5.1->bravado-core>=5.16.1->bravado==11.0.2->mlsteam-client==0.4.6->-r requirements.txt (line 3)) (1.3.8)\n",
      "Requirement already satisfied: rfc3339-validator in /usr/local/lib/python3.8/dist-packages (from jsonschema[format]>=2.5.1->bravado-core>=5.16.1->bravado==11.0.2->mlsteam-client==0.4.6->-r requirements.txt (line 3)) (0.1.4)\n",
      "Requirement already satisfied: uri-template in /usr/local/lib/python3.8/dist-packages (from jsonschema[format]>=2.5.1->bravado-core>=5.16.1->bravado==11.0.2->mlsteam-client==0.4.6->-r requirements.txt (line 3)) (1.2.0)\n",
      "Requirement already satisfied: isoduration in /usr/local/lib/python3.8/dist-packages (from jsonschema[format]>=2.5.1->bravado-core>=5.16.1->bravado==11.0.2->mlsteam-client==0.4.6->-r requirements.txt (line 3)) (20.11.0)\n",
      "Requirement already satisfied: pyasn1<0.5.0,>=0.4.6 in /usr/local/lib/python3.8/dist-packages (from pyasn1-modules>=0.2.1->google-auth<3,>=1.6.3->tensorboard<2.9,>=2.8->tensorflow==2.8.0->-r requirements.txt (line 5)) (0.4.8)\n",
      "Requirement already satisfied: oauthlib>=3.0.0 in /usr/local/lib/python3.8/dist-packages (from requests-oauthlib>=0.7.0->google-auth-oauthlib<0.5,>=0.4.1->tensorboard<2.9,>=2.8->tensorflow==2.8.0->-r requirements.txt (line 5)) (3.2.2)\n",
      "Requirement already satisfied: arrow>=0.15.0 in /usr/local/lib/python3.8/dist-packages (from isoduration->jsonschema[format]>=2.5.1->bravado-core>=5.16.1->bravado==11.0.2->mlsteam-client==0.4.6->-r requirements.txt (line 3)) (1.2.3)\n",
      "\u001b[33mWARNING: Running pip as the 'root' user can result in broken permissions and conflicting behaviour with the system package manager. It is recommended to use a virtual environment instead: https://pip.pypa.io/warnings/venv\u001b[0m\u001b[33m\n",
      "\u001b[0mNote: you may need to restart the kernel to use updated packages.\n"
     ]
    },
    {
     "data": {
      "text/plain": [
       "{'status': 'ok', 'restart': True}"
      ]
     },
     "execution_count": 2,
     "metadata": {},
     "output_type": "execute_result"
    }
   ],
   "source": [
    "%pip install \"bentoml[all]\"  # install BentoML\n",
    "%pip install -r requirements.txt\n",
    "\n",
    "import IPython\n",
    "\n",
    "# automatically restart kernel\n",
    "IPython.Application.instance().kernel.do_shutdown(restart=True)"
   ]
  },
  {
   "cell_type": "code",
   "execution_count": 1,
   "id": "666a603d-b553-490d-9637-fdfaa413c15e",
   "metadata": {},
   "outputs": [
    {
     "name": "stdout",
     "output_type": "stream",
     "text": [
      "(bookmark:REPO_BASE_DIR) -> /mlsteam/lab/stock-pred\n",
      "/mlsteam/lab/stock-pred\n"
     ]
    }
   ],
   "source": [
    "%cd -b REPO_BASE_DIR\n",
    "\n",
    "# Forces to use CPU rather than GPU\n",
    "# NVIDIA drivers of higher versions have messy implimentation of LSTM!\n",
    "# Ref: https://github.com/mozilla/DeepSpeech/issues/3088#issuecomment-656056969\n",
    "# Ref: https://github.com/tensorflow/tensorflow/issues/35950#issuecomment-577427083\n",
    "import os\n",
    "os.environ['CUDA_VISIBLE_DEVICES'] = '-1'"
   ]
  },
  {
   "cell_type": "markdown",
   "id": "1d4b1754-d2c8-44e8-a93a-4a02f54ec010",
   "metadata": {},
   "source": [
    "## Define Parameters"
   ]
  },
  {
   "cell_type": "code",
   "execution_count": 2,
   "id": "901a2a7f-4dd5-491b-9f77-b6a4b38a4d6f",
   "metadata": {},
   "outputs": [],
   "source": [
    "class TrainerParams:\n",
    "    window: int = 50\n",
    "    epochs: int = 15\n",
    "    batch: int = 20\n",
    "    test_ratio: float = .2\n",
    "\n",
    "    data_path: str = 'data/20220808_tesla.csv'\n",
    "    scaler_path: str = '/lab/trained/scaler.pkl'\n",
    "    model_path: str = '/lab/trained/model'\n",
    "    tensorboard_path: str = '/tensorboard'\n",
    "\n",
    "params = TrainerParams()"
   ]
  },
  {
   "cell_type": "markdown",
   "id": "ceeb194c-acff-4238-b570-dc42b703bf4f",
   "metadata": {},
   "source": [
    "## Load Data"
   ]
  },
  {
   "cell_type": "code",
   "execution_count": 3,
   "id": "51c03d32-28b6-4f58-8c20-25f7a74b9ce0",
   "metadata": {},
   "outputs": [
    {
     "name": "stderr",
     "output_type": "stream",
     "text": [
      "2022-11-04 14:08:38.752346: W tensorflow/stream_executor/platform/default/dso_loader.cc:64] Could not load dynamic library 'libcudart.so.11.0'; dlerror: libcudart.so.11.0: cannot open shared object file: No such file or directory\n",
      "2022-11-04 14:08:38.752402: I tensorflow/stream_executor/cuda/cudart_stub.cc:29] Ignore above cudart dlerror if you do not have a GPU set up on your machine.\n"
     ]
    }
   ],
   "source": [
    "import numpy as np\n",
    "from sklearn.preprocessing import StandardScaler\n",
    "\n",
    "from train import (load_data_csv, transform_data, extract_x_y)\n",
    "\n",
    "def training_data_loader(config: TrainerParams):\n",
    "    _, stock_prices = load_data_csv(config.data_path)\n",
    "    scaler, scaled_data = transform_data(stock_prices)\n",
    "\n",
    "    train_size = int(len(scaled_data) * (1.0 - config.test_ratio))\n",
    "    scaled_data_train = scaled_data[:train_size]\n",
    "    x_train, y_train = extract_x_y(scaled_data_train, window=config.window, offset=config.window)\n",
    "    x_test, y_test = extract_x_y(scaled_data, window=config.window, offset=train_size)\n",
    "    \n",
    "    return scaler, train_size, x_train, y_train, x_test, y_test\n",
    "\n",
    "scaler, train_size, x_train, y_train, x_test, y_test = training_data_loader(params)"
   ]
  },
  {
   "cell_type": "markdown",
   "id": "2ff84b8a-2243-4d0d-b3fa-35fc78657d01",
   "metadata": {},
   "source": [
    "## Train Model"
   ]
  },
  {
   "cell_type": "code",
   "execution_count": 4,
   "id": "b4686e38-6171-4bd5-a7c8-1e03378eca6c",
   "metadata": {},
   "outputs": [
    {
     "name": "stderr",
     "output_type": "stream",
     "text": [
      "2022-11-04 14:08:57.308541: W tensorflow/stream_executor/platform/default/dso_loader.cc:64] Could not load dynamic library 'libcuda.so.1'; dlerror: libcuda.so.1: cannot open shared object file: No such file or directory\n",
      "2022-11-04 14:08:57.308596: W tensorflow/stream_executor/cuda/cuda_driver.cc:269] failed call to cuInit: UNKNOWN ERROR (303)\n",
      "2022-11-04 14:08:57.311614: I tensorflow/stream_executor/cuda/cuda_diagnostics.cc:163] no NVIDIA GPU device is present: /dev/nvidia0 does not exist\n",
      "2022-11-04 14:08:57.312036: I tensorflow/core/platform/cpu_feature_guard.cc:151] This TensorFlow binary is optimized with oneAPI Deep Neural Network Library (oneDNN) to use the following CPU instructions in performance-critical operations:  AVX2 AVX512F FMA\n",
      "To enable them in other operations, rebuild TensorFlow with the appropriate compiler flags.\n"
     ]
    },
    {
     "name": "stdout",
     "output_type": "stream",
     "text": [
      "Epoch 1/15\n",
      "44/44 [==============================] - 5s 45ms/step - loss: 0.0714 - val_loss: 0.0164\n",
      "Epoch 2/15\n",
      "44/44 [==============================] - 1s 22ms/step - loss: 0.0064 - val_loss: 0.0211\n",
      "Epoch 3/15\n",
      "44/44 [==============================] - 1s 22ms/step - loss: 0.0052 - val_loss: 0.0126\n",
      "Epoch 4/15\n",
      "44/44 [==============================] - 1s 22ms/step - loss: 0.0046 - val_loss: 0.0129\n",
      "Epoch 5/15\n",
      "44/44 [==============================] - 1s 21ms/step - loss: 0.0044 - val_loss: 0.0092\n",
      "Epoch 6/15\n",
      "44/44 [==============================] - 1s 22ms/step - loss: 0.0040 - val_loss: 0.0080\n",
      "Epoch 7/15\n",
      "44/44 [==============================] - 1s 22ms/step - loss: 0.0037 - val_loss: 0.0139\n",
      "Epoch 8/15\n",
      "44/44 [==============================] - 1s 21ms/step - loss: 0.0041 - val_loss: 0.0088\n",
      "Epoch 9/15\n",
      "44/44 [==============================] - 1s 22ms/step - loss: 0.0037 - val_loss: 0.0088\n",
      "Epoch 10/15\n",
      "44/44 [==============================] - 1s 23ms/step - loss: 0.0035 - val_loss: 0.0068\n",
      "Epoch 11/15\n",
      "44/44 [==============================] - 1s 22ms/step - loss: 0.0032 - val_loss: 0.0073\n",
      "Epoch 12/15\n",
      "44/44 [==============================] - 1s 23ms/step - loss: 0.0031 - val_loss: 0.0108\n",
      "Epoch 13/15\n",
      "44/44 [==============================] - 1s 22ms/step - loss: 0.0030 - val_loss: 0.0061\n",
      "Epoch 14/15\n",
      "44/44 [==============================] - 1s 22ms/step - loss: 0.0030 - val_loss: 0.0060\n",
      "Epoch 15/15\n",
      "44/44 [==============================] - 1s 22ms/step - loss: 0.0029 - val_loss: 0.0132\n"
     ]
    }
   ],
   "source": [
    "from tensorflow.keras import Model\n",
    "\n",
    "from train import (build_LSTM, train_model)\n",
    "\n",
    "def model_trainer(\n",
    "    config: TrainerParams,\n",
    "    x_train: np.ndarray, y_train: np.ndarray,\n",
    "):\n",
    "    model = build_LSTM(x_train, units=config.window)\n",
    "    train_model(model, x_train, y_train,\n",
    "                config.epochs, config.batch,\n",
    "                interactive_progress=True,\n",
    "                tensorboard_path=config.tensorboard_path)\n",
    "    return model\n",
    "\n",
    "model = model_trainer(params, x_train, y_train)"
   ]
  },
  {
   "cell_type": "code",
   "execution_count": 5,
   "id": "8ae152dd-3507-42ca-b4c5-3648715aface",
   "metadata": {},
   "outputs": [
    {
     "name": "stdout",
     "output_type": "stream",
     "text": [
      "✨RMSE: 53.55176719248445, MAPE: 0.04827539456944427\n"
     ]
    }
   ],
   "source": [
    "from train import (predict, get_rmse, get_mape)\n",
    "\n",
    "def model_validator(\n",
    "    model: Model, scaler: StandardScaler,\n",
    "    x_test: np.ndarray, y_test: np.ndarray\n",
    "):\n",
    "    y_pred_scaled = model.predict(x_test)\n",
    "    y_pred = scaler.inverse_transform(y_pred_scaled)\n",
    "    y_actual = scaler.inverse_transform(y_test)\n",
    "    \n",
    "    rmse = get_rmse(pred=y_pred, actual=y_actual)\n",
    "    mape = get_mape(pred=y_pred, actual=y_actual)\n",
    "    print(f'✨RMSE: {rmse}, MAPE: {mape}')\n",
    "    return rmse, mape\n",
    "\n",
    "rmse, mape = model_validator(model, scaler, x_test, y_test)"
   ]
  },
  {
   "cell_type": "markdown",
   "id": "78ef4b59-0929-490f-bdcd-7c6f98cd1b39",
   "metadata": {},
   "source": [
    "## Register Model"
   ]
  },
  {
   "cell_type": "code",
   "execution_count": 6,
   "id": "24bcdf19-c0e8-4183-9092-9b6858f266a9",
   "metadata": {},
   "outputs": [
    {
     "name": "stderr",
     "output_type": "stream",
     "text": [
      "2022-11-04 14:10:11.339772: W tensorflow/python/util/util.cc:368] Sets are not currently considered sequences, but this may change in the future, so consider avoiding using them.\n",
      "WARNING:absl:Found untraced functions such as lstm_cell_layer_call_fn, lstm_cell_layer_call_and_return_conditional_losses, lstm_cell_1_layer_call_fn, lstm_cell_1_layer_call_and_return_conditional_losses while saving (showing 4 of 4). These functions will not be directly callable after loading.\n"
     ]
    },
    {
     "name": "stdout",
     "output_type": "stream",
     "text": [
      "INFO:tensorflow:Assets written to: /tmp/tmpdwlxgee5bentoml_model_stock_pred_lstm/assets\n"
     ]
    },
    {
     "name": "stderr",
     "output_type": "stream",
     "text": [
      "INFO:tensorflow:Assets written to: /tmp/tmpdwlxgee5bentoml_model_stock_pred_lstm/assets\n",
      "WARNING:absl:<keras.layers.recurrent.LSTMCell object at 0x7ff1ea2828b0> has the same name 'LSTMCell' as a built-in Keras object. Consider renaming <class 'keras.layers.recurrent.LSTMCell'> to avoid naming conflicts when loading with `tf.keras.models.load_model`. If renaming is not possible, pass the object in the `custom_objects` parameter of the load function.\n",
      "WARNING:absl:<keras.layers.recurrent.LSTMCell object at 0x7ff1ea2b39d0> has the same name 'LSTMCell' as a built-in Keras object. Consider renaming <class 'keras.layers.recurrent.LSTMCell'> to avoid naming conflicts when loading with `tf.keras.models.load_model`. If renaming is not possible, pass the object in the `custom_objects` parameter of the load function.\n"
     ]
    },
    {
     "data": {
      "text/plain": [
       "Model(tag=\"stock_pred_lstm:kxkk3ms4a6xckasc\", path=\"/mlsteam/bentoml/models/stock_pred_lstm/kxkk3ms4a6xckasc/\")"
      ]
     },
     "execution_count": 6,
     "metadata": {},
     "output_type": "execute_result"
    }
   ],
   "source": [
    "import bentoml\n",
    "\n",
    "# Although BentoML recommends to use `bentoml.tensorflow.save_model` to save Keras model,\n",
    "# I could not run the prediction method against the loaded model\n",
    "bentoml.keras.save_model(\n",
    "    'stock_pred_lstm',\n",
    "    model,\n",
    "    custom_objects={'scaler': scaler},\n",
    "    signatures={'predict': {'batchable': True, 'batch_dim': 0}}\n",
    ")"
   ]
  },
  {
   "cell_type": "code",
   "execution_count": 7,
   "id": "4df5da43-8a5e-4eae-8f8d-1a7a2044d7bb",
   "metadata": {},
   "outputs": [
    {
     "name": "stdout",
     "output_type": "stream",
     "text": [
      "\u001b[1m \u001b[0m\u001b[1mTag                             \u001b[0m\u001b[1m \u001b[0m\u001b[1m \u001b[0m\u001b[1mModule       \u001b[0m\u001b[1m \u001b[0m\u001b[1m \u001b[0m\u001b[1mSize    \u001b[0m\u001b[1m \u001b[0m\u001b[1m \u001b[0m\u001b[1mCreation Time      \u001b[0m\u001b[1m \u001b[0m\n",
      " stock_pred_lstm:kxkk3ms4a6xckasc  bentoml.keras  1.46 MiB  2022-11-04 14:10:09 \n"
     ]
    }
   ],
   "source": [
    "!bentoml models list"
   ]
  },
  {
   "cell_type": "code",
   "execution_count": 8,
   "id": "7c991fd5-e5fe-4f7d-9f78-19d7f720537a",
   "metadata": {},
   "outputs": [
    {
     "name": "stdout",
     "output_type": "stream",
     "text": [
      "\u001b[91;40mname\u001b[0m\u001b[97;40m:\u001b[0m\u001b[97;40m \u001b[0m\u001b[40mstock_pred_lstm\u001b[0m\u001b[40m                                                           \u001b[0m\n",
      "\u001b[91;40mversion\u001b[0m\u001b[97;40m:\u001b[0m\u001b[97;40m \u001b[0m\u001b[40mkxkk3ms4a6xckasc\u001b[0m\u001b[40m                                                       \u001b[0m\n",
      "\u001b[91;40mmodule\u001b[0m\u001b[97;40m:\u001b[0m\u001b[97;40m \u001b[0m\u001b[40mbentoml.keras\u001b[0m\u001b[40m                                                           \u001b[0m\n",
      "\u001b[91;40mlabels\u001b[0m\u001b[97;40m:\u001b[0m\u001b[97;40m \u001b[0m\u001b[40m{\u001b[0m\u001b[40m}\u001b[0m\u001b[40m                                                                      \u001b[0m\n",
      "\u001b[91;40moptions\u001b[0m\u001b[97;40m:\u001b[0m\u001b[40m                                                                        \u001b[0m\n",
      "\u001b[97;40m  \u001b[0m\u001b[91;40minclude_optimizer\u001b[0m\u001b[97;40m:\u001b[0m\u001b[97;40m \u001b[0m\u001b[40mfalse\u001b[0m\u001b[40m                                                      \u001b[0m\n",
      "\u001b[97;40m  \u001b[0m\u001b[91;40mpartial_kwargs\u001b[0m\u001b[97;40m:\u001b[0m\u001b[97;40m \u001b[0m\u001b[40m{\u001b[0m\u001b[40m}\u001b[0m\u001b[40m                                                            \u001b[0m\n",
      "\u001b[91;40mmetadata\u001b[0m\u001b[97;40m:\u001b[0m\u001b[97;40m \u001b[0m\u001b[40m{\u001b[0m\u001b[40m}\u001b[0m\u001b[40m                                                                    \u001b[0m\n",
      "\u001b[91;40mcontext\u001b[0m\u001b[97;40m:\u001b[0m\u001b[40m                                                                        \u001b[0m\n",
      "\u001b[97;40m  \u001b[0m\u001b[91;40mframework_name\u001b[0m\u001b[97;40m:\u001b[0m\u001b[97;40m \u001b[0m\u001b[40mkeras\u001b[0m\u001b[40m                                                         \u001b[0m\n",
      "\u001b[97;40m  \u001b[0m\u001b[91;40mframework_versions\u001b[0m\u001b[97;40m:\u001b[0m\u001b[40m                                                           \u001b[0m\n",
      "\u001b[97;40m    \u001b[0m\u001b[91;40mtensorflow\u001b[0m\u001b[97;40m:\u001b[0m\u001b[97;40m \u001b[0m\u001b[40m2.8.0\u001b[0m\u001b[40m                                                           \u001b[0m\n",
      "\u001b[97;40m  \u001b[0m\u001b[91;40mbentoml_version\u001b[0m\u001b[97;40m:\u001b[0m\u001b[97;40m \u001b[0m\u001b[40m1.0.8\u001b[0m\u001b[40m                                                        \u001b[0m\n",
      "\u001b[97;40m  \u001b[0m\u001b[91;40mpython_version\u001b[0m\u001b[97;40m:\u001b[0m\u001b[97;40m \u001b[0m\u001b[40m3.8.10\u001b[0m\u001b[40m                                                        \u001b[0m\n",
      "\u001b[91;40msignatures\u001b[0m\u001b[97;40m:\u001b[0m\u001b[40m                                                                     \u001b[0m\n",
      "\u001b[97;40m  \u001b[0m\u001b[91;40mpredict\u001b[0m\u001b[97;40m:\u001b[0m\u001b[40m                                                                      \u001b[0m\n",
      "\u001b[97;40m    \u001b[0m\u001b[91;40mbatchable\u001b[0m\u001b[97;40m:\u001b[0m\u001b[97;40m \u001b[0m\u001b[40mtrue\u001b[0m\u001b[40m                                                             \u001b[0m\n",
      "\u001b[97;40m    \u001b[0m\u001b[91;40mbatch_dim\u001b[0m\u001b[97;40m:\u001b[0m\u001b[40m                                                                  \u001b[0m\n",
      "\u001b[97;40m    \u001b[0m\u001b[40m-\u001b[0m\u001b[97;40m \u001b[0m\u001b[40m0\u001b[0m\u001b[40m                                                                         \u001b[0m\n",
      "\u001b[97;40m    \u001b[0m\u001b[40m-\u001b[0m\u001b[97;40m \u001b[0m\u001b[40m0\u001b[0m\u001b[40m                                                                         \u001b[0m\n",
      "\u001b[91;40mapi_version\u001b[0m\u001b[97;40m:\u001b[0m\u001b[97;40m \u001b[0m\u001b[40mv1\u001b[0m\u001b[40m                                                                 \u001b[0m\n",
      "\u001b[91;40mcreation_time\u001b[0m\u001b[97;40m:\u001b[0m\u001b[97;40m \u001b[0m\u001b[93;40m'\u001b[0m\u001b[93;40m2022-11-04T06:10:09.288941+00:00\u001b[0m\u001b[93;40m'\u001b[0m\u001b[40m                               \u001b[0m\n",
      "\u001b[40m                                                                                \u001b[0m\n"
     ]
    }
   ],
   "source": [
    "!bentoml models get \"stock_pred_lstm:latest\""
   ]
  },
  {
   "cell_type": "markdown",
   "id": "57119046-a5bf-4a44-8814-8ce85111c2c8",
   "metadata": {},
   "source": [
    "A model could be loaded directly for testing purpose."
   ]
  },
  {
   "cell_type": "code",
   "execution_count": 9,
   "id": "46571b86-ce54-4e1b-9916-586755b5105d",
   "metadata": {},
   "outputs": [
    {
     "name": "stdout",
     "output_type": "stream",
     "text": [
      "WARNING:tensorflow:No training configuration found in save file, so the model was *not* compiled. Compile it manually.\n"
     ]
    },
    {
     "name": "stderr",
     "output_type": "stream",
     "text": [
      "WARNING:tensorflow:No training configuration found in save file, so the model was *not* compiled. Compile it manually.\n"
     ]
    },
    {
     "data": {
      "text/plain": [
       "array([[1.1240116]], dtype=float32)"
      ]
     },
     "execution_count": 9,
     "metadata": {},
     "output_type": "execute_result"
    }
   ],
   "source": [
    "loaded_model = bentoml.keras.load_model('stock_pred_lstm:latest')\n",
    "loaded_model.predict(x_test[0:1])"
   ]
  },
  {
   "cell_type": "markdown",
   "id": "bbc4e67a-a2cc-4876-94b3-6ba0f217d1db",
   "metadata": {},
   "source": [
    "A model could also be retrieved and run locally for testing purpose."
   ]
  },
  {
   "cell_type": "code",
   "execution_count": 10,
   "id": "584146f1-deab-4b3d-b79d-cc26223a2dea",
   "metadata": {},
   "outputs": [
    {
     "name": "stderr",
     "output_type": "stream",
     "text": [
      "WARNING:bentoml._internal.runner.runner:'Runner.init_local' is for debugging and testing only. Make sure to remove it before deploying to production.\n"
     ]
    },
    {
     "name": "stdout",
     "output_type": "stream",
     "text": [
      "WARNING:tensorflow:No training configuration found in save file, so the model was *not* compiled. Compile it manually.\n"
     ]
    },
    {
     "name": "stderr",
     "output_type": "stream",
     "text": [
      "WARNING:tensorflow:No training configuration found in save file, so the model was *not* compiled. Compile it manually.\n"
     ]
    },
    {
     "data": {
      "text/plain": [
       "array([[1.1240116]], dtype=float32)"
      ]
     },
     "execution_count": 10,
     "metadata": {},
     "output_type": "execute_result"
    }
   ],
   "source": [
    "from sklearn.preprocessing import StandardScaler\n",
    "\n",
    "registered_model = bentoml.models.get('stock_pred_lstm:latest')\n",
    "# model_scaler: StandardScaler = registered_model.custom_objects['scaler']\n",
    "model_runner: bentoml.Runner = registered_model.to_runner()\n",
    "model_runner.init_local()\n",
    "model_runner.predict.run(x_test[0:1])"
   ]
  },
  {
   "cell_type": "markdown",
   "id": "90f48c17-405f-48cb-9ac4-ca7ad8be065e",
   "metadata": {},
   "source": [
    "## Serve Model"
   ]
  },
  {
   "cell_type": "code",
   "execution_count": 11,
   "id": "39b0d38e-9de7-44ca-b8d1-ce5bbbcaf81b",
   "metadata": {},
   "outputs": [
    {
     "name": "stdout",
     "output_type": "stream",
     "text": [
      "Overwriting bentoml/service.py\n"
     ]
    }
   ],
   "source": [
    "%%writefile bentoml/service.py\n",
    "import numpy as np\n",
    "import bentoml\n",
    "from bentoml.io import NumpyNdarray\n",
    "\n",
    "\n",
    "loaded_model = bentoml.models.get('stock_pred_lstm:latest')\n",
    "scaler = loaded_model.custom_objects['scaler']\n",
    "model_runner = loaded_model.to_runner()\n",
    "svc = bentoml.Service('stock_pred_lstm', runners=[model_runner])\n",
    "\n",
    "\n",
    "@svc.api(input=NumpyNdarray(), output=NumpyNdarray())\n",
    "def predict_normalized(input_series: np.ndarray) -> np.ndarray:\n",
    "    return model_runner.predict.run(input_series)\n",
    "\n",
    "\n",
    "@svc.api(input=NumpyNdarray(), output=NumpyNdarray())\n",
    "def predict(input_series: np.ndarray) -> np.ndarray:\n",
    "    batch_size = input_series.shape[0]\n",
    "    input_norm = scaler.transform(input_series.reshape(-1, 1)).reshape((batch_size, -1))\n",
    "    output_norm = model_runner.predict.run(input_norm)\n",
    "    print(f'input_norm: {input_norm.shape}, output_norm: {output_norm.shape}')\n",
    "    return scaler.inverse_transform(output_norm)\n"
   ]
  },
  {
   "cell_type": "markdown",
   "id": "039ce202-f3c9-4220-bd68-d8794517342f",
   "metadata": {},
   "source": [
    "Then, you could serve the model by the following commands in a terminal:\n",
    "\n",
    "```bash\n",
    "bentoml serve --working-dir bentoml service.py:svc --reload\n",
    "```\n",
    "\n",
    "> The service will be listening at `http://0.0.0.0:3000` by default. To customize the listening port, add the `-p PORT` option.\n",
    "\n",
    "Now, you could send requests with `curl` or any other HTTP client.\n",
    "\n",
    "- For predicting with raw data:\n",
    "\n",
    "  ```bash\n",
    "  curl -X POST -H \"content-type: application/json\" --data \"[[1.3, 5.8, 9.2, ... (50 items) ...]]\" http://127.0.0.1:3000/predict\n",
    "  ```\n",
    "- For predicting with normalized data:\n",
    "\n",
    "  ```bash\n",
    "  curl -X POST -H \"content-type: application/json\" --data \"[[1.3, 5.8, 9.2, ... (50 items) ...]]\" http://127.0.0.1:3000/predict_normalized\n",
    "  ```"
   ]
  },
  {
   "cell_type": "code",
   "execution_count": 13,
   "id": "a056673c-6362-4df4-8c22-24541191da36",
   "metadata": {},
   "outputs": [
    {
     "name": "stdout",
     "output_type": "stream",
     "text": [
      "✨The first 10 predictions: [[1.124011754989624], [1.1424322128295898], [1.1563845872879028], [1.1632120609283447], [1.163495421409607], [1.1655495166778564], [1.1653589010238647], [1.1502503156661987], [1.119778037071228], [1.0938702821731567]]\n"
     ]
    }
   ],
   "source": [
    "import requests\n",
    "\n",
    "endpoint_prednorm_url = 'http://127.0.0.1:3000/predict_normalized'\n",
    "rsp = requests.post(endpoint_prednorm_url, json=x_test.tolist())\n",
    "print(f'✨The first 10 predictions: {rsp.json()[:10]}')"
   ]
  },
  {
   "cell_type": "code",
   "execution_count": 14,
   "id": "adf1219d-28cd-4a3c-8a16-461b12941a3b",
   "metadata": {},
   "outputs": [
    {
     "data": {
      "image/png": "[encoded data removed]",
      "text/plain": [
       "<Figure size 2000x1000 with 1 Axes>"
      ]
     },
     "metadata": {},
     "output_type": "display_data"
    }
   ],
   "source": [
    "import matplotlib.pyplot as plt\n",
    "\n",
    "\n",
    "def plots_data_loader(config: TrainerParams, train_size: int):\n",
    "    dates, y_all_raw = load_data_csv(config.data_path)\n",
    "    x_test_raw, _ = extract_x_y(y_all_raw, window=config.window, offset=train_size)\n",
    "    return dates, y_all_raw, x_test_raw\n",
    "\n",
    "\n",
    "def plotter(\n",
    "    dates: np.ndarray, train_size: int,\n",
    "    y_all_raw: np.ndarray, x_test_raw: np.ndarray\n",
    "):\n",
    "    endpoint_pred_url = 'http://127.0.0.1:3000/predict'\n",
    "    rsp = requests.post(endpoint_pred_url, json=x_test_raw.tolist())\n",
    "    y_pred_raw = np.array(rsp.json())\n",
    "    \n",
    "    fig = plt.figure(figsize=(20, 10))\n",
    "    plt.plot(dates, y_all_raw, label='Actual Closing Price')\n",
    "    plt.plot(dates[train_size:], y_pred_raw, label='Pred Closing Price')\n",
    "    plt.title('Stock Price Prediction')\n",
    "    plt.xlabel('Date')\n",
    "    plt.ylabel('Stock Price')\n",
    "    plt.legend(loc='upper left')\n",
    "\n",
    "\n",
    "dates, y_all_raw, x_test_raw = plots_data_loader(params, train_size)\n",
    "plotter(dates, train_size, y_all_raw, x_test_raw)"
   ]
  },
  {
   "cell_type": "markdown",
   "id": "53d9ad33-0422-4b12-8795-2f7b274a8841",
   "metadata": {},
   "source": [
    "## Containerize and Deployment\n",
    "\n",
    "We will write a Bento distribution spec `bentofile.yaml`, build a Bento distribution archive with `bentoml build`, and then build a corresponding Docker image for deployment with `bentoml containerize`."
   ]
  },
  {
   "cell_type": "code",
   "execution_count": 15,
   "id": "9eac132b-b777-4bbe-a7a6-fc1c2f885464",
   "metadata": {},
   "outputs": [
    {
     "name": "stdout",
     "output_type": "stream",
     "text": [
      "Overwriting bentoml/bentofile.yaml\n"
     ]
    }
   ],
   "source": [
    "%%writefile bentoml/bentofile.yaml\n",
    "service: \"service.py:svc\"\n",
    "labels:\n",
    "  owner: mlteam\n",
    "  project: stock-pred\n",
    "include:\n",
    "- \"*.py\"\n",
    "python:\n",
    "  packages:\n",
    "    - protobuf==3.20.*  # to avoid \"Descriptors cannot not be created directly\" error\n",
    "    - scikit-learn>=1.0.2\n",
    "    - tensorflow==2.8.0"
   ]
  },
  {
   "cell_type": "code",
   "execution_count": 16,
   "id": "f0757341-a30b-4542-b0df-0c4d14484b3a",
   "metadata": {},
   "outputs": [
    {
     "name": "stdout",
     "output_type": "stream",
     "text": [
      "2022-11-04 14:12:17.617101: W tensorflow/stream_executor/platform/default/dso_loader.cc:64] Could not load dynamic library 'libcudart.so.11.0'; dlerror: libcudart.so.11.0: cannot open shared object file: No such file or directory\n",
      "2022-11-04 14:12:17.617131: I tensorflow/stream_executor/cuda/cudart_stub.cc:29] Ignore above cudart dlerror if you do not have a GPU set up on your machine.\n",
      "Building BentoML service \"stock_pred_lstm:umujqjs4a6vgyasc\" from build context \"/mlsteam/lab/stock-pred/bentoml\".\n",
      "Packing model \"stock_pred_lstm:kxkk3ms4a6xckasc\"\n",
      "Locking PyPI package versions.\n",
      "\n",
      "██████╗░███████╗███╗░░██╗████████╗░█████╗░███╗░░░███╗██╗░░░░░\n",
      "██╔══██╗██╔════╝████╗░██║╚══██╔══╝██╔══██╗████╗░████║██║░░░░░\n",
      "██████╦╝█████╗░░██╔██╗██║░░░██║░░░██║░░██║██╔████╔██║██║░░░░░\n",
      "██╔══██╗██╔══╝░░██║╚████║░░░██║░░░██║░░██║██║╚██╔╝██║██║░░░░░\n",
      "██████╦╝███████╗██║░╚███║░░░██║░░░╚█████╔╝██║░╚═╝░██║███████╗\n",
      "╚═════╝░╚══════╝╚═╝░░╚══╝░░░╚═╝░░░░╚════╝░╚═╝░░░░░╚═╝╚══════╝\n",
      "\n",
      "Successfully built Bento(tag=\"stock_pred_lstm:umujqjs4a6vgyasc\").\n"
     ]
    }
   ],
   "source": [
    "!bentoml build bentoml/"
   ]
  },
  {
   "cell_type": "code",
   "execution_count": 17,
   "id": "a4a38f2d-2aeb-4b38-b2c7-e6f01b474b0f",
   "metadata": {},
   "outputs": [
    {
     "name": "stdout",
     "output_type": "stream",
     "text": [
      "\u001b[1m \u001b[0m\u001b[1mTag                   \u001b[0m\u001b[1m \u001b[0m\u001b[1m \u001b[0m\u001b[1mSize    \u001b[0m\u001b[1m \u001b[0m\u001b[1m \u001b[0m\u001b[1mCreation Time      \u001b[0m\u001b[1m \u001b[0m\u001b[1m \u001b[0m\u001b[1mPath                   \u001b[0m\u001b[1m \u001b[0m\n",
      " stock_pred_lstm:umujq…  1.48 MiB  2022-11-04 14:12:30  ~/bentoml/bentos/stock… \n"
     ]
    }
   ],
   "source": [
    "!bentoml list"
   ]
  },
  {
   "cell_type": "markdown",
   "id": "03520f9a-2586-4f3d-97b2-86831186e0dc",
   "metadata": {
    "jupyter": {
     "outputs_hidden": true
    },
    "tags": []
   },
   "source": [
    "Now, run the command to build the Docker image:\n",
    "\n",
    "```bash\n",
    "bentoml containerize \"stock_pred_lstm:latest\"\n",
    "```\n",
    "\n",
    "After the image is ready, you could run the container by\n",
    "\n",
    "```bash\n",
    "docker run --rm -it -p 3000:PORT_EXT stock_pred_lstm:VERSION\n",
    "```\n",
    "\n",
    "where `PORT_EXT` is the external container port, and `stock_pred_lstm:VERSION` is the tag listed in the previous `bentoml list` output.\n",
    "\n",
    "Then, you could use the `curl` commands to run queries against the deployed server."
   ]
  }
 ],
 "metadata": {
  "kernelspec": {
   "display_name": "Python 3 (ipykernel)",
   "language": "python",
   "name": "python3"
  },
  "language_info": {
   "codemirror_mode": {
    "name": "ipython",
    "version": 3
   },
   "file_extension": ".py",
   "mimetype": "text/x-python",
   "name": "python",
   "nbconvert_exporter": "python",
   "pygments_lexer": "ipython3",
   "version": "3.8.10"
  },
  "toc-showcode": false,
  "toc-showmarkdowntxt": false
 },
 "nbformat": 4,
 "nbformat_minor": 5
}
