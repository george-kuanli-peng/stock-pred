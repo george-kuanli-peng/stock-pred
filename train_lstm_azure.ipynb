{
  "cells": [
    {
      "cell_type": "markdown",
      "source": [
        "# LSTM Training"
      ],
      "metadata": {},
      "id": "b736fe51"
    },
    {
      "cell_type": "code",
      "source": [
        "# No need to do this in Azure\n",
        "# Replace this with the actual directory containing the notebook and Python scripts\n",
        "# %cd stock-pred"
      ],
      "outputs": [],
      "execution_count": 1,
      "metadata": {
        "gather": {
          "logged": 1655169176874
        }
      },
      "id": "2fccd3f0"
    },
    {
      "cell_type": "code",
      "source": [
        "from azureml.core import Dataset, Workspace\n",
        "\n",
        "ws = Workspace.from_config()\n",
        "ds = Dataset.get_by_name(ws, name='stock_prices')\n",
        "# ds_mount = ds.as_mount(path_on_compute='/dataset/')\n",
        "ds.download('./dataset/', overwrite=True)\n",
        "! ls -la ./dataset\n",
        "\n",
        "# Global settings\n",
        "WINDOW = 50\n",
        "EPOCHS = 15\n",
        "BATCH = 20\n",
        "TEST_RATIO = .2\n",
        "\n",
        "DATA_PATH = './dataset/20220512_tesla.pkl'\n",
        "TRAINED_ROOT = './trained/'\n",
        "SCALER_PATH = TRAINED_ROOT +  '/scaler.pkl'\n",
        "MODEL_PATH = TRAINED_ROOT + '/model'\n",
        "MODEL_NAME = 'stock-pred-lstm'\n",
        "TENSORBOARD_PATH = './tensorboard'\n",
        "\n",
        "# Forces to use CPU rather than GPU\n",
        "# NVIDIA drivers of higher versions have messy implimentation of LSTM!\n",
        "# Ref: https://github.com/mozilla/DeepSpeech/issues/3088#issuecomment-656056969\n",
        "# Ref: https://github.com/tensorflow/tensorflow/issues/35950#issuecomment-577427083\n",
        "import os\n",
        "os.environ['CUDA_VISIBLE_DEVICES'] = '-1'"
      ],
      "outputs": [
        {
          "output_type": "stream",
          "name": "stdout",
          "text": "total 19\r\ndrwxrwxrwx 2 root root     0 Jun 13 10:17 .\r\ndrwxrwxrwx 2 root root     0 Jun 13 06:47 ..\r\n-rwxrwxrwx 1 root root   315 Jun 13 10:22 .amlignore\r\n-rwxrwxrwx 1 root root   315 Jun 13 10:22 .amlignore.amltmp\r\n-rwxrwxrwx 1 root root 17926 Jun 14 01:13 20220512_tesla.pkl\r\n"
        }
      ],
      "execution_count": 2,
      "metadata": {
        "gather": {
          "logged": 1655169181552
        }
      },
      "id": "01fb8d32"
    },
    {
      "cell_type": "markdown",
      "source": [
        "## Load and Preprocess Data"
      ],
      "metadata": {},
      "id": "825c38d8"
    },
    {
      "cell_type": "code",
      "source": [
        "from train import (load_data, transform_data, extract_x_y)\n",
        "\n",
        "stock_dates, stock_prices = load_data(DATA_PATH)\n",
        "scaler, scaled_data = transform_data(stock_prices)\n",
        "\n",
        "train_split = int(len(scaled_data) * (1.0 - TEST_RATIO))\n",
        "scaled_data_train = scaled_data[:train_split]\n",
        "x_train, y_train = extract_x_y(scaled_data_train, window=WINDOW, offset=WINDOW)"
      ],
      "outputs": [],
      "execution_count": 3,
      "metadata": {
        "gather": {
          "logged": 1655169183702
        }
      },
      "id": "d78a1082"
    },
    {
      "cell_type": "markdown",
      "source": [
        "## Train Model"
      ],
      "metadata": {},
      "id": "a6ada8ca"
    },
    {
      "cell_type": "code",
      "source": [
        "from train import (build_LSTM, train_model)\n",
        "\n",
        "model = build_LSTM(x_train, units=WINDOW)\n",
        "train_model(model, x_train, y_train, EPOCHS, BATCH, interactive_progress=True, tensorboard_path=TENSORBOARD_PATH)"
      ],
      "outputs": [
        {
          "output_type": "stream",
          "name": "stdout",
          "text": "Epoch 1/15\n7/7 [==============================] - 4s 198ms/step - loss: 0.8395 - val_loss: 0.0918\b\b\b\b\b\b\b\b\b\b\b\b\b\b\b\b\b\b\b\b\b\b\b\b\b\b\b\b\b\b\b\b\b\b\b\b\b\b\nEpoch 2/15\n7/7 [==============================] - 0s 35ms/step - loss: 0.3054 - val_loss: 0.5846\b\b\b\b\b\b\b\b\b\b\b\b\b\b\b\b\b\b\b\b\b\b\b\b\b\b\b\b\b\b\b\b\b\b\b\b\b\nEpoch 3/15\n7/7 [==============================] - 0s 35ms/step - loss: 0.2674 - val_loss: 0.2533\b\b\b\b\b\b\b\b\b\b\b\b\b\b\b\b\b\b\b\b\b\b\b\b\b\b\b\b\b\b\b\b\b\b\b\b\b\nEpoch 4/15\n7/7 [==============================] - 0s 36ms/step - loss: 0.2012 - val_loss: 0.1785\b\b\b\b\b\b\b\b\b\b\b\b\b\b\b\b\b\b\b\b\b\b\b\b\b\b\b\b\b\b\b\b\b\b\b\b\b\nEpoch 5/15\n7/7 [==============================] - 0s 36ms/step - loss: 0.1771 - val_loss: 0.2640\b\b\b\b\b\b\b\b\b\b\b\b\b\b\b\b\b\b\b\b\b\b\b\b\b\b\b\b\b\b\b\b\b\b\b\b\b\nEpoch 6/15\n7/7 [==============================] - 0s 35ms/step - loss: 0.1551 - val_loss: 0.2996\b\b\b\b\b\b\b\b\b\b\b\b\b\b\b\b\b\b\b\b\b\b\b\b\b\b\b\b\b\b\b\b\b\b\b\b\b\nEpoch 7/15\n7/7 [==============================] - 0s 36ms/step - loss: 0.1412 - val_loss: 0.2862\b\b\b\b\b\b\b\b\b\b\b\b\b\b\b\b\b\b\b\b\b\b\b\b\b\b\b\b\b\b\b\b\b\b\b\b\b\nEpoch 8/15\n7/7 [==============================] - 0s 36ms/step - loss: 0.1307 - val_loss: 0.2555\b\b\b\b\b\b\b\b\b\b\b\b\b\b\b\b\b\b\b\b\b\b\b\b\b\b\b\b\b\b\b\b\b\b\b\b\b\nEpoch 9/15\n7/7 [==============================] - 0s 36ms/step - loss: 0.1216 - val_loss: 0.2419\b\b\b\b\b\b\b\b\b\b\b\b\b\b\b\b\b\b\b\b\b\b\b\b\b\b\b\b\b\b\b\b\b\b\b\b\b\nEpoch 10/15\n7/7 [==============================] - 0s 35ms/step - loss: 0.1089 - val_loss: 0.2631\b\b\b\b\b\b\b\b\b\b\b\b\b\b\b\b\b\b\b\b\b\b\b\b\b\b\b\b\b\b\b\b\b\b\b\b\b\nEpoch 11/15\n7/7 [==============================] - 0s 35ms/step - loss: 0.1013 - val_loss: 0.2478\b\b\b\b\b\b\b\b\b\b\b\b\b\b\b\b\b\b\b\b\b\b\b\b\b\b\b\b\b\b\b\b\b\b\b\b\b\nEpoch 12/15\n7/7 [==============================] - 0s 35ms/step - loss: 0.0935 - val_loss: 0.2537\b\b\b\b\b\b\b\b\b\b\b\b\b\b\b\b\b\b\b\b\b\b\b\b\b\b\b\b\b\b\b\b\b\b\b\b\b\nEpoch 13/15\n7/7 [==============================] - 0s 37ms/step - loss: 0.0858 - val_loss: 0.3047\b\b\b\b\b\b\b\b\b\b\b\b\b\b\b\b\b\b\b\b\b\b\b\b\b\b\b\b\b\b\b\b\b\b\b\b\b\nEpoch 14/15\n7/7 [==============================] - 0s 37ms/step - loss: 0.0868 - val_loss: 0.3086\b\b\b\b\b\b\b\b\b\b\b\b\b\b\b\b\b\b\b\b\b\b\b\b\b\b\b\b\b\b\b\b\b\b\b\b\b\nEpoch 15/15\n7/7 [==============================] - 0s 36ms/step - loss: 0.0816 - val_loss: 0.3025\b\b\b\b\b\b\b\b\b\b\b\b\b\b\b\b\b\b\b\b\b\b\b\b\b\b\b\b\b\b\b\b\b\b\b\b\b\n"
        },
        {
          "output_type": "execute_result",
          "execution_count": 4,
          "data": {
            "text/plain": "<keras.callbacks.History at 0x7f8ece8f6970>"
          },
          "metadata": {}
        }
      ],
      "execution_count": 4,
      "metadata": {
        "gather": {
          "logged": 1655169197147
        }
      },
      "id": "1e973442"
    },
    {
      "cell_type": "markdown",
      "source": [
        "## Test Model"
      ],
      "metadata": {},
      "id": "148240c4"
    },
    {
      "cell_type": "code",
      "source": [
        "from train import (predict, get_rmse, get_mape)\n",
        "\n",
        "x_test, _ = extract_x_y(scaled_data, window=WINDOW, offset=train_split)\n",
        "y_lstm_scaled = model.predict(x_test)\n",
        "y_lstm = scaler.inverse_transform(y_lstm_scaled)\n",
        "y_actual = stock_prices[train_split:]\n",
        "\n",
        "rmse_lstm = get_rmse(pred=y_lstm, actual=y_actual)\n",
        "mape_lstm = get_mape(pred=y_lstm, actual=y_actual)\n",
        "print(f'RMSE: {rmse_lstm}, MAPE: {mape_lstm}')"
      ],
      "outputs": [
        {
          "output_type": "stream",
          "name": "stdout",
          "text": "RMSE: 131.68806420557846, MAPE: 0.1210426860978854\n"
        }
      ],
      "execution_count": 5,
      "metadata": {
        "gather": {
          "logged": 1655169197391
        }
      },
      "id": "8e4eacba"
    },
    {
      "cell_type": "code",
      "source": [
        "import matplotlib.pyplot as plt\n",
        "\n",
        "def plot_stock(dates, y_train, y_pred, y_actual, train_pos):\n",
        "    fig = plt.figure(figsize=(20, 10))\n",
        "    plt.plot(dates[:train_pos], y_train, label='Train Closing Price')\n",
        "    plt.plot(dates[train_pos:], y_actual, label='Test Closing Price')\n",
        "    plt.plot(dates[train_pos:], y_pred, label='Pred Closing Price')\n",
        "    plt.title('Stock Price Prediction')\n",
        "    plt.xlabel('Date')\n",
        "    plt.ylabel('Stock Price')\n",
        "    plt.legend(loc='upper left')\n",
        "\n",
        "plot_stock(stock_dates, stock_prices[:train_split], y_lstm, y_actual, train_split)"
      ],
      "outputs": [],
      "execution_count": 6,
      "metadata": {
        "gather": {
          "logged": 1655169198122
        }
      },
      "id": "3314e9ea"
    },
    {
      "cell_type": "markdown",
      "source": [
        "## Save Scaler and Model"
      ],
      "metadata": {},
      "id": "688551b0"
    },
    {
      "cell_type": "code",
      "source": [
        "from train import (save_scaler, save_model)\n",
        "\n",
        "save_scaler(scaler, SCALER_PATH)\n",
        "save_model(model, MODEL_PATH)"
      ],
      "outputs": [
        {
          "output_type": "stream",
          "name": "stderr",
          "text": "INFO:tensorflow:Assets written to: ./trained//model/assets\nWARNING:absl:<keras.layers.recurrent.LSTMCell object at 0x7fb59e8756d0> has the same name 'LSTMCell' as a built-in Keras object. Consider renaming <class 'keras.layers.recurrent.LSTMCell'> to avoid naming conflicts when loading with `tf.keras.models.load_model`. If renaming is not possible, pass the object in the `custom_objects` parameter of the load function.\nWARNING:absl:<keras.layers.recurrent.LSTMCell object at 0x7fb59b5d3730> has the same name 'LSTMCell' as a built-in Keras object. Consider renaming <class 'keras.layers.recurrent.LSTMCell'> to avoid naming conflicts when loading with `tf.keras.models.load_model`. If renaming is not possible, pass the object in the `custom_objects` parameter of the load function.\nWARNING:absl:Found untraced functions such as lstm_cell_layer_call_fn, lstm_cell_layer_call_and_return_conditional_losses, lstm_cell_1_layer_call_fn, lstm_cell_1_layer_call_and_return_conditional_losses while saving (showing 4 of 4). These functions will not be directly callable after loading.\n"
        },
        {
          "output_type": "stream",
          "name": "stdout",
          "text": "INFO:tensorflow:Assets written to: ./trained//model/assets\n"
        }
      ],
      "execution_count": 7,
      "metadata": {
        "gather": {
          "logged": 1655169204313
        }
      },
      "id": "96d71721"
    },
    {
      "cell_type": "code",
      "source": [
        "from azureml.core.model import Model\r\n",
        "\r\n",
        "model = Model.register(workspace=ws,\r\n",
        "                       model_path=TRAINED_ROOT,\r\n",
        "                       model_name=MODEL_NAME,\r\n",
        "                       model_framework=Model.Framework.TENSORFLOW)"
      ],
      "outputs": [
        {
          "output_type": "stream",
          "name": "stdout",
          "text": "Registering model stock-pred-lstm\n"
        }
      ],
      "execution_count": 8,
      "metadata": {
        "gather": {
          "logged": 1655169205508
        }
      },
      "id": "b1236236"
    }
  ],
  "metadata": {
    "kernelspec": {
      "name": "python3",
      "language": "python",
      "display_name": "Python 3"
    },
    "language_info": {
      "name": "python",
      "version": "3.8.5",
      "mimetype": "text/x-python",
      "codemirror_mode": {
        "name": "ipython",
        "version": 3
      },
      "pygments_lexer": "ipython3",
      "nbconvert_exporter": "python",
      "file_extension": ".py"
    },
    "kernel_info": {
      "name": "python3"
    },
    "nteract": {
      "version": "nteract-front-end@1.0.0"
    },
    "microsoft": {
      "host": {
        "AzureML": {
          "notebookHasBeenCompleted": true
        }
      }
    }
  },
  "nbformat": 4,
  "nbformat_minor": 5
}