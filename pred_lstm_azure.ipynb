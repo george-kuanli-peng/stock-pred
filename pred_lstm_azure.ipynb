{
  "cells": [
    {
      "cell_type": "markdown",
      "source": [
        "# LSTM Predection"
      ],
      "metadata": {},
      "id": "ed8fac71"
    },
    {
      "cell_type": "code",
      "source": [
        "# No need to do this in Azure\n",
        "# Replace this with the actual directory containing the notebook and Python scripts\n",
        "# %cd stock-pred"
      ],
      "outputs": [],
      "execution_count": 1,
      "metadata": {
        "gather": {
          "logged": 1655172488661
        }
      },
      "id": "59aaba19"
    },
    {
      "cell_type": "code",
      "source": [
        "# Global settings\n",
        "WINDOW = 50\n",
        "EPOCHS = 15\n",
        "BATCH = 20\n",
        "TEST_RATIO = .2\n",
        "\n",
        "DATASET_NAME = 'stock_prices'\n",
        "DATASET_ROOT = './dataset/'\n",
        "DATA_PATH = DATASET_ROOT + '/20220512_tesla.pkl'\n",
        "LOAD_REGISTERED_MODEL = True\n",
        "TRAINED_LOAD_PATH = './trained_pred/' if LOAD_REGISTERED_MODEL else None\n",
        "TRAINED_ROOT = (TRAINED_LOAD_PATH + '/trained/') if LOAD_REGISTERED_MODEL else './trained/'\n",
        "SCALER_PATH = TRAINED_ROOT +  '/scaler.pkl'\n",
        "MODEL_PATH = TRAINED_ROOT + '/model'\n",
        "MODEL_NAME = 'stock-pred-lstm'\n",
        "\n",
        "# Download dataset\n",
        "from azureml.core import Dataset, Workspace\n",
        "\n",
        "ws = Workspace.from_config()\n",
        "ds = Dataset.get_by_name(ws, name=DATASET_NAME)\n",
        "# ds_mount = ds.as_mount(path_on_compute='/dataset/')\n",
        "ds.download(DATASET_ROOT, overwrite=True)\n",
        "! ls -la ./dataset\n",
        "\n",
        "# Forces to use CPU rather than GPU\n",
        "# NVIDIA drivers of higher versions have messy implimentation of LSTM!\n",
        "# Ref: https://github.com/mozilla/DeepSpeech/issues/3088#issuecomment-656056969\n",
        "# Ref: https://github.com/tensorflow/tensorflow/issues/35950#issuecomment-577427083\n",
        "import os\n",
        "os.environ['CUDA_VISIBLE_DEVICES'] = '-1'"
      ],
      "outputs": [
        {
          "output_type": "stream",
          "name": "stdout",
          "text": "total 19\r\ndrwxrwxrwx 2 root root     0 Jun 13 10:17 .\r\ndrwxrwxrwx 2 root root     0 Jun 13 06:47 ..\r\n-rwxrwxrwx 1 root root   315 Jun 13 10:22 .amlignore\r\n-rwxrwxrwx 1 root root   315 Jun 13 10:22 .amlignore.amltmp\r\n-rwxrwxrwx 1 root root 17926 Jun 14 02:08 20220512_tesla.pkl\r\n"
        }
      ],
      "execution_count": 2,
      "metadata": {
        "gather": {
          "logged": 1655172493257
        }
      },
      "id": "d4e85da5"
    },
    {
      "cell_type": "markdown",
      "source": [
        "## Load Data and Model"
      ],
      "metadata": {},
      "id": "6f653a7b"
    },
    {
      "cell_type": "code",
      "source": [
        "from train import (load_data, load_model, load_scaler, extract_x_y)\n",
        "\n",
        "stock_dates, stock_prices = load_data(DATA_PATH)\n",
        "\n",
        "if LOAD_REGISTERED_MODEL:\n",
        "    from azureml.core.model import Model\n",
        "    model = Model(ws, name=MODEL_NAME)\n",
        "    model.download(target_dir=TRAINED_ROOT, exist_ok=True)\n",
        "    \n",
        "scaler = load_scaler(SCALER_PATH)\n",
        "scaled_data = scaler.transform(stock_prices[:,None])\n",
        "train_split = int(len(scaled_data) * (1.0 - TEST_RATIO))\n",
        "x_test, _ = extract_x_y(scaled_data, window=WINDOW, offset=train_split)\n",
        "\n",
        "model = load_model(MODEL_PATH)"
      ],
      "outputs": [],
      "execution_count": 3,
      "metadata": {
        "gather": {
          "logged": 1655172502261
        }
      },
      "id": "4b386d78"
    },
    {
      "cell_type": "markdown",
      "source": [
        "## Make Prediction"
      ],
      "metadata": {},
      "id": "16e574d3"
    },
    {
      "cell_type": "code",
      "source": [
        "from train import (predict, get_rmse, get_mape)\n",
        "\n",
        "y_lstm_scaled = model.predict(x_test)\n",
        "y_lstm = scaler.inverse_transform(y_lstm_scaled)\n",
        "y_actual = stock_prices[train_split:]\n",
        "\n",
        "rmse_lstm = get_rmse(pred=y_lstm, actual=y_actual)\n",
        "mape_lstm = get_mape(pred=y_lstm, actual=y_actual)\n",
        "print(f'RMSE: {rmse_lstm}, MAPE: {mape_lstm}')"
      ],
      "outputs": [
        {
          "output_type": "stream",
          "name": "stdout",
          "text": "RMSE: 131.68806420557846, MAPE: 0.1210426860978854\n"
        }
      ],
      "execution_count": 4,
      "metadata": {
        "gather": {
          "logged": 1655172502628
        }
      },
      "id": "edb43c70"
    },
    {
      "cell_type": "code",
      "source": [
        "import matplotlib.pyplot as plt\n",
        "\n",
        "def plot_stock(dates, y_pred, y_actual, train_pos):\n",
        "    fig = plt.figure(figsize=(20, 10))\n",
        "    plt.plot(dates[train_pos:], y_actual, label='Test Closing Price')\n",
        "    plt.plot(dates[train_pos:], y_pred, label='Pred Closing Price')\n",
        "    plt.title('Stock Price Prediction')\n",
        "    plt.xlabel('Date')\n",
        "    plt.ylabel('Stock Price')\n",
        "    plt.legend(loc='upper left')\n",
        "\n",
        "plot_stock(stock_dates, y_lstm, y_actual, train_split)"
      ],
      "outputs": [],
      "execution_count": 5,
      "metadata": {
        "gather": {
          "logged": 1655172503258
        }
      },
      "id": "db8779c0"
    },
    {
      "cell_type": "code",
      "source": [],
      "outputs": [],
      "execution_count": null,
      "metadata": {},
      "id": "4aa57aee"
    }
  ],
  "metadata": {
    "kernelspec": {
      "name": "python3",
      "language": "python",
      "display_name": "Python 3"
    },
    "language_info": {
      "name": "python",
      "version": "3.8.5",
      "mimetype": "text/x-python",
      "codemirror_mode": {
        "name": "ipython",
        "version": 3
      },
      "pygments_lexer": "ipython3",
      "nbconvert_exporter": "python",
      "file_extension": ".py"
    },
    "kernel_info": {
      "name": "python3"
    },
    "microsoft": {
      "host": {
        "AzureML": {
          "notebookHasBeenCompleted": true
        }
      }
    },
    "nteract": {
      "version": "nteract-front-end@1.0.0"
    }
  },
  "nbformat": 4,
  "nbformat_minor": 5
}