{
 "cells": [
  {
   "cell_type": "markdown",
   "id": "3984a368",
   "metadata": {},
   "source": [
    "# Automated ML Training"
   ]
  },
  {
   "cell_type": "code",
   "execution_count": null,
   "id": "e30dac98",
   "metadata": {},
   "outputs": [],
   "source": [
    "%pip install autokeras==1.0.19"
   ]
  },
  {
   "cell_type": "code",
   "execution_count": 1,
   "id": "56ab25b7",
   "metadata": {},
   "outputs": [
    {
     "name": "stdout",
     "output_type": "stream",
     "text": [
      "/mlsteam/lab/stock-pred\n"
     ]
    }
   ],
   "source": [
    "%cd stock-pred"
   ]
  },
  {
   "cell_type": "code",
   "execution_count": 2,
   "id": "78b338ef",
   "metadata": {},
   "outputs": [],
   "source": [
    "# Global settings\n",
    "WINDOW = 20\n",
    "EPOCHS = 15\n",
    "BATCH = 20\n",
    "TEST_RATIO = .2\n",
    "\n",
    "DATA_PATH = '/mlsteam/data/stock_prices/20220512_tesla.pkl'\n",
    "SCALER_PATH = '/lab/trained/scaler.pkl'\n",
    "MODEL_PATH = '/lab/trained/model'\n",
    "TENSORBOARD_PATH = '/tensorboard'"
   ]
  },
  {
   "cell_type": "markdown",
   "id": "af40f347",
   "metadata": {},
   "source": [
    "## Load Data"
   ]
  },
  {
   "cell_type": "code",
   "execution_count": 3,
   "id": "fc98f864",
   "metadata": {},
   "outputs": [],
   "source": [
    "from train import load_data\n",
    "\n",
    "_, stock_prices = load_data(DATA_PATH)\n",
    "x_all = stock_prices[:-1, None]\n",
    "y_all = stock_prices[1:]\n",
    "\n",
    "train_split = int(len(y_all) * (1.0 - TEST_RATIO))\n",
    "x_train, y_train = x_all[:train_split], y_all[:train_split]\n",
    "x_val, y_val = x_all[train_split:], y_all[train_split:]\n",
    "x_test, y_test = x_all[train_split:], y_all[train_split:]"
   ]
  },
  {
   "cell_type": "code",
   "execution_count": 4,
   "id": "7adb71fc",
   "metadata": {},
   "outputs": [
    {
     "name": "stdout",
     "output_type": "stream",
     "text": [
      "(201, 1) (201,)\n",
      "(51, 1) (51,)\n"
     ]
    }
   ],
   "source": [
    "print(x_train.shape, y_train.shape)\n",
    "print(x_val.shape, y_val.shape)"
   ]
  },
  {
   "cell_type": "markdown",
   "id": "beb500e5",
   "metadata": {},
   "source": [
    "## Train Model"
   ]
  },
  {
   "cell_type": "code",
   "execution_count": 5,
   "id": "ebec32ab",
   "metadata": {},
   "outputs": [
    {
     "name": "stdout",
     "output_type": "stream",
     "text": [
      "Trial 20 Complete [00h 00m 13s]\n",
      "val_loss: 20220.490234375\n",
      "\n",
      "Best val_loss So Far: 20219.083984375\n",
      "Total elapsed time: 00h 03m 29s\n",
      "INFO:tensorflow:Oracle triggered exit\n",
      "Epoch 1/15\n",
      "10/10 [==============================] - 5s 120ms/step - loss: 522117.3750 - mean_squared_error: 522117.3750 - val_loss: 354193.3750 - val_mean_squared_error: 354193.3750\n",
      "Epoch 2/15\n",
      "10/10 [==============================] - 0s 14ms/step - loss: 168714.0469 - mean_squared_error: 168714.0469 - val_loss: 141274.0312 - val_mean_squared_error: 141274.0312\n",
      "Epoch 3/15\n",
      "10/10 [==============================] - 0s 15ms/step - loss: 67784.7656 - mean_squared_error: 67784.7656 - val_loss: 68349.1016 - val_mean_squared_error: 68349.1016\n",
      "Epoch 4/15\n",
      "10/10 [==============================] - 0s 17ms/step - loss: 40051.7461 - mean_squared_error: 40051.7461 - val_loss: 41184.4180 - val_mean_squared_error: 41184.4180\n",
      "Epoch 5/15\n",
      "10/10 [==============================] - 0s 13ms/step - loss: 32839.5742 - mean_squared_error: 32839.5742 - val_loss: 30067.4336 - val_mean_squared_error: 30067.4336\n",
      "Epoch 6/15\n",
      "10/10 [==============================] - 0s 17ms/step - loss: 31196.1504 - mean_squared_error: 31196.1504 - val_loss: 25099.2188 - val_mean_squared_error: 25099.2207\n",
      "Epoch 7/15\n",
      "10/10 [==============================] - 0s 13ms/step - loss: 30961.1348 - mean_squared_error: 30961.1348 - val_loss: 22719.0059 - val_mean_squared_error: 22719.0039\n",
      "Epoch 8/15\n",
      "10/10 [==============================] - 0s 15ms/step - loss: 31023.1641 - mean_squared_error: 31023.1641 - val_loss: 21522.7871 - val_mean_squared_error: 21522.7871\n",
      "Epoch 9/15\n",
      "10/10 [==============================] - 0s 20ms/step - loss: 31111.2949 - mean_squared_error: 31111.2949 - val_loss: 20903.3633 - val_mean_squared_error: 20903.3633\n",
      "Epoch 10/15\n",
      "10/10 [==============================] - 0s 16ms/step - loss: 31174.6406 - mean_squared_error: 31174.6406 - val_loss: 20576.9766 - val_mean_squared_error: 20576.9766\n",
      "Epoch 11/15\n",
      "10/10 [==============================] - 0s 15ms/step - loss: 31213.3633 - mean_squared_error: 31213.3633 - val_loss: 20403.2637 - val_mean_squared_error: 20403.2637\n",
      "Epoch 12/15\n",
      "10/10 [==============================] - 0s 13ms/step - loss: 31235.5625 - mean_squared_error: 31235.5625 - val_loss: 20310.3145 - val_mean_squared_error: 20310.3145\n",
      "Epoch 13/15\n",
      "10/10 [==============================] - 0s 19ms/step - loss: 31247.9062 - mean_squared_error: 31247.9062 - val_loss: 20260.4297 - val_mean_squared_error: 20260.4297\n",
      "Epoch 14/15\n",
      "10/10 [==============================] - 0s 17ms/step - loss: 31254.6641 - mean_squared_error: 31254.6641 - val_loss: 20233.6016 - val_mean_squared_error: 20233.6016\n",
      "Epoch 15/15\n",
      "10/10 [==============================] - 0s 14ms/step - loss: 31258.3262 - mean_squared_error: 31258.3262 - val_loss: 20219.1680 - val_mean_squared_error: 20219.1680\n"
     ]
    },
    {
     "name": "stderr",
     "output_type": "stream",
     "text": [
      "WARNING:absl:Found untraced functions such as gru_cell_1_layer_call_fn, gru_cell_1_layer_call_and_return_conditional_losses, gru_cell_2_layer_call_fn, gru_cell_2_layer_call_and_return_conditional_losses, gru_cell_4_layer_call_fn while saving (showing 5 of 8). These functions will not be directly callable after loading.\n"
     ]
    },
    {
     "name": "stdout",
     "output_type": "stream",
     "text": [
      "INFO:tensorflow:Assets written to: ./stock-pred-automl/best_model/assets\n"
     ]
    },
    {
     "name": "stderr",
     "output_type": "stream",
     "text": [
      "INFO:tensorflow:Assets written to: ./stock-pred-automl/best_model/assets\n",
      "WARNING:absl:<keras.layers.recurrent.GRUCell object at 0x7f01ac5d0f40> has the same name 'GRUCell' as a built-in Keras object. Consider renaming <class 'keras.layers.recurrent.GRUCell'> to avoid naming conflicts when loading with `tf.keras.models.load_model`. If renaming is not possible, pass the object in the `custom_objects` parameter of the load function.\n",
      "WARNING:absl:<keras.layers.recurrent.GRUCell object at 0x7f01ac5a6760> has the same name 'GRUCell' as a built-in Keras object. Consider renaming <class 'keras.layers.recurrent.GRUCell'> to avoid naming conflicts when loading with `tf.keras.models.load_model`. If renaming is not possible, pass the object in the `custom_objects` parameter of the load function.\n",
      "WARNING:absl:<keras.layers.recurrent.GRUCell object at 0x7f01ac5c37f0> has the same name 'GRUCell' as a built-in Keras object. Consider renaming <class 'keras.layers.recurrent.GRUCell'> to avoid naming conflicts when loading with `tf.keras.models.load_model`. If renaming is not possible, pass the object in the `custom_objects` parameter of the load function.\n",
      "WARNING:absl:<keras.layers.recurrent.GRUCell object at 0x7f01802ff520> has the same name 'GRUCell' as a built-in Keras object. Consider renaming <class 'keras.layers.recurrent.GRUCell'> to avoid naming conflicts when loading with `tf.keras.models.load_model`. If renaming is not possible, pass the object in the `custom_objects` parameter of the load function.\n"
     ]
    }
   ],
   "source": [
    "import autokeras as ak\n",
    "\n",
    "clf = ak.TimeseriesForecaster(\n",
    "    column_names=['stock_price'],\n",
    "    lookback=WINDOW,\n",
    "    predict_from=1,\n",
    "    predict_until=1,\n",
    "    project_name='stock-pred-automl',\n",
    "    max_trials=20,\n",
    "    objective='val_loss'\n",
    ")\n",
    "clf.fit(\n",
    "    x=x_train,\n",
    "    y=y_train,\n",
    "    validation_data=(x_val, y_val),\n",
    "    batch_size=BATCH,\n",
    "    epochs=EPOCHS\n",
    ")"
   ]
  },
  {
   "cell_type": "markdown",
   "id": "1972418c",
   "metadata": {},
   "source": [
    "## Test Model"
   ]
  },
  {
   "cell_type": "code",
   "execution_count": 12,
   "id": "741c787a",
   "metadata": {},
   "outputs": [
    {
     "ename": "ValueError",
     "evalue": "The prediction data requires the original training data to make predictions on subsequent data points",
     "output_type": "error",
     "traceback": [
      "\u001b[0;31m---------------------------------------------------------------------------\u001b[0m",
      "\u001b[0;31mValueError\u001b[0m                                Traceback (most recent call last)",
      "\u001b[0;32m<ipython-input-12-7be566ed0cfe>\u001b[0m in \u001b[0;36m<module>\u001b[0;34m\u001b[0m\n\u001b[1;32m      1\u001b[0m \u001b[0;32mfrom\u001b[0m \u001b[0mtrain\u001b[0m \u001b[0;32mimport\u001b[0m \u001b[0mget_rmse\u001b[0m\u001b[0;34m,\u001b[0m \u001b[0mget_mape\u001b[0m\u001b[0;34m\u001b[0m\u001b[0;34m\u001b[0m\u001b[0m\n\u001b[1;32m      2\u001b[0m \u001b[0;34m\u001b[0m\u001b[0m\n\u001b[0;32m----> 3\u001b[0;31m \u001b[0my_predict\u001b[0m \u001b[0;34m=\u001b[0m \u001b[0mclf\u001b[0m\u001b[0;34m.\u001b[0m\u001b[0mpredict\u001b[0m\u001b[0;34m(\u001b[0m\u001b[0mx_test\u001b[0m\u001b[0;34m)\u001b[0m\u001b[0;34m\u001b[0m\u001b[0;34m\u001b[0m\u001b[0m\n\u001b[0m\u001b[1;32m      4\u001b[0m \u001b[0;34m\u001b[0m\u001b[0m\n\u001b[1;32m      5\u001b[0m \u001b[0mrmse\u001b[0m \u001b[0;34m=\u001b[0m \u001b[0mget_rmse\u001b[0m\u001b[0;34m(\u001b[0m\u001b[0mpred\u001b[0m\u001b[0;34m=\u001b[0m\u001b[0my_predict\u001b[0m\u001b[0;34m,\u001b[0m \u001b[0mactual\u001b[0m\u001b[0;34m=\u001b[0m\u001b[0my_train\u001b[0m\u001b[0;34m)\u001b[0m\u001b[0;34m\u001b[0m\u001b[0;34m\u001b[0m\u001b[0m\n",
      "\u001b[0;32m/opt/conda/lib/python3.8/site-packages/autokeras/tasks/time_series_forecaster.py\u001b[0m in \u001b[0;36mpredict\u001b[0;34m(self, x, **kwargs)\u001b[0m\n\u001b[1;32m    287\u001b[0m             \u001b[0mThe\u001b[0m \u001b[0mpredicted\u001b[0m \u001b[0mresults\u001b[0m\u001b[0;34m.\u001b[0m\u001b[0;34m\u001b[0m\u001b[0;34m\u001b[0m\u001b[0m\n\u001b[1;32m    288\u001b[0m         \"\"\"\n\u001b[0;32m--> 289\u001b[0;31m         \u001b[0;32mreturn\u001b[0m \u001b[0msuper\u001b[0m\u001b[0;34m(\u001b[0m\u001b[0;34m)\u001b[0m\u001b[0;34m.\u001b[0m\u001b[0mpredict\u001b[0m\u001b[0;34m(\u001b[0m\u001b[0mx\u001b[0m\u001b[0;34m=\u001b[0m\u001b[0mx\u001b[0m\u001b[0;34m,\u001b[0m \u001b[0;34m**\u001b[0m\u001b[0mkwargs\u001b[0m\u001b[0;34m)\u001b[0m\u001b[0;34m\u001b[0m\u001b[0;34m\u001b[0m\u001b[0m\n\u001b[0m\u001b[1;32m    290\u001b[0m \u001b[0;34m\u001b[0m\u001b[0m\n\u001b[1;32m    291\u001b[0m     def fit_and_predict(\n",
      "\u001b[0;32m/opt/conda/lib/python3.8/site-packages/autokeras/tasks/time_series_forecaster.py\u001b[0m in \u001b[0;36mpredict\u001b[0;34m(self, x, **kwargs)\u001b[0m\n\u001b[1;32m    100\u001b[0m         \u001b[0mx\u001b[0m \u001b[0;34m=\u001b[0m \u001b[0mself\u001b[0m\u001b[0;34m.\u001b[0m\u001b[0mread_for_predict\u001b[0m\u001b[0;34m(\u001b[0m\u001b[0mx\u001b[0m\u001b[0;34m)\u001b[0m\u001b[0;34m\u001b[0m\u001b[0;34m\u001b[0m\u001b[0m\n\u001b[1;32m    101\u001b[0m         \u001b[0;32mif\u001b[0m \u001b[0mlen\u001b[0m\u001b[0;34m(\u001b[0m\u001b[0mx\u001b[0m\u001b[0;34m)\u001b[0m \u001b[0;34m<\u001b[0m \u001b[0mself\u001b[0m\u001b[0;34m.\u001b[0m\u001b[0mtrain_len\u001b[0m\u001b[0;34m:\u001b[0m\u001b[0;34m\u001b[0m\u001b[0;34m\u001b[0m\u001b[0m\n\u001b[0;32m--> 102\u001b[0;31m             raise ValueError(\n\u001b[0m\u001b[1;32m    103\u001b[0m                 \u001b[0;34m\"The prediction data requires the original training\"\u001b[0m\u001b[0;34m\u001b[0m\u001b[0;34m\u001b[0m\u001b[0m\n\u001b[1;32m    104\u001b[0m                 \u001b[0;34m\" data to make predictions on subsequent data points\"\u001b[0m\u001b[0;34m\u001b[0m\u001b[0;34m\u001b[0m\u001b[0m\n",
      "\u001b[0;31mValueError\u001b[0m: The prediction data requires the original training data to make predictions on subsequent data points"
     ]
    }
   ],
   "source": [
    "from train import get_rmse, get_mape\n",
    "\n",
    "y_predict = clf.predict(x_test)  # FIXME: don't know why I cannot use x_test here\n",
    "\n",
    "rmse = get_rmse(pred=y_predict, actual=y_train)\n",
    "mape = get_mape(pred=y_predict, actual=y_train)\n",
    "print(f'RMSE: {rmse}, MAPE: {mape}')"
   ]
  },
  {
   "cell_type": "code",
   "execution_count": null,
   "id": "cdcc8c63",
   "metadata": {},
   "outputs": [],
   "source": []
  }
 ],
 "metadata": {
  "kernelspec": {
   "display_name": "Python 3",
   "language": "python",
   "name": "python3"
  },
  "language_info": {
   "codemirror_mode": {
    "name": "ipython",
    "version": 3
   },
   "file_extension": ".py",
   "mimetype": "text/x-python",
   "name": "python",
   "nbconvert_exporter": "python",
   "pygments_lexer": "ipython3",
   "version": "3.8.10"
  }
 },
 "nbformat": 4,
 "nbformat_minor": 5
}
